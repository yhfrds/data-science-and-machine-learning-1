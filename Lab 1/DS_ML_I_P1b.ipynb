{
 "cells": [
  {
   "cell_type": "markdown",
   "id": "256305fd-460d-4e99-904a-504c35b2448b",
   "metadata": {},
   "source": [
    "<span style='color:red'> NOTE: You can only pass the lab, when you provide both code and markdown </span>\n",
    "\n",
    "Use Code for your analysis\n",
    "Use Markdown to document and elaborate on your findings, conclusions, assertions, etc."
   ]
  },
  {
   "cell_type": "markdown",
   "id": "e81e20cd-10a9-44b2-8de5-7a0540131045",
   "metadata": {},
   "source": [
    "# DS_ML_I_P1: Dataset creation from raw data \n",
    "Provided is a list of Excel-Files that stem from a radar measurement using an array of 15 Antennas and a frequency sweep. Another Excel sheet provides information on the type of object that should be detected and its orientation.\n",
    "\n",
    "The overall task is to load the data into **a single dataframe**, add the **proper information on object**, **orientation** and **the name of the image that shows the object** (which is not provided here)\n"
   ]
  },
  {
   "cell_type": "markdown",
   "id": "ecba50ce-17ea-41cc-84d0-a0555c5bbaff",
   "metadata": {},
   "source": [
    "## 1. Load the data and check proper loading\n",
    "Load all the data into a single dataframe so that\n",
    "* The name of the file is a separat column\n",
    "* Only the first five columns and all rows per Sheet tab should be integrated (15 Tabs in total, one per Antenna)\n",
    "* Sheet tab name should be the major index in a multiindex column dataframe\n",
    "* Tab column names should be the minor index\n",
    "* After this dataframe has been created the object information, orientation and image name should be added as separate columns by integrating the information from the specific excel sheet."
   ]
  },
  {
   "cell_type": "code",
   "execution_count": 35,
   "id": "1b5fe18b",
   "metadata": {},
   "outputs": [
    {
     "name": "stderr",
     "output_type": "stream",
     "text": [
      "C:\\Users\\yudha\\AppData\\Local\\Temp\\ipykernel_3232\\1290670668.py:6: FutureWarning: data_manager option is deprecated and will be removed in a future version. Only the BlockManager will be available.\n",
      "  pd.reset_option('all')\n",
      "C:\\Users\\yudha\\AppData\\Local\\Temp\\ipykernel_3232\\1290670668.py:6: FutureWarning: use_inf_as_na option is deprecated and will be removed in a future version. Convert inf values to NaN before operating instead.\n",
      "  pd.reset_option('all')\n"
     ]
    }
   ],
   "source": [
    "import pandas as pd\n",
    "import glob\n",
    "import os\n",
    "import numpy as np\n",
    "\n",
    "pd.reset_option('all')"
   ]
  },
  {
   "cell_type": "markdown",
   "id": "2fe61a4e",
   "metadata": {},
   "source": [
    "Gather all the data"
   ]
  },
  {
   "cell_type": "code",
   "execution_count": 36,
   "id": "6acd353c",
   "metadata": {},
   "outputs": [
    {
     "name": "stdout",
     "output_type": "stream",
     "text": [
      "CPU times: total: 5.98 s\n",
      "Wall time: 6.04 s\n"
     ]
    }
   ],
   "source": [
    "%%time\n",
    "file_paths = glob.glob(\"P1b/Measurements_8_April_2023_IMP-SIMO/*.xls\")\n",
    "\n",
    "dfs =[]\n",
    "\n",
    "for file in file_paths:\n",
    "    file_data = []\n",
    "    sheets = pd.read_excel(file, sheet_name=None, usecols=[0,1,2,3,4])\n",
    "\n",
    "    for sheet_name, df in sheets.items():\n",
    "        multi_columns = [\n",
    "            np.repeat(sheet_name,len(df.columns)),\n",
    "            df.columns.to_list()\n",
    "        ]\n",
    "        df.columns = pd.MultiIndex.from_arrays(multi_columns, names=['major','minor'])\n",
    "        file_data.append(df)\n",
    "\n",
    "    df[\"filename\"] = os.path.splitext(os.path.basename(file))[0]\n",
    "    dfs.append(pd.concat(file_data, axis=1))\n",
    "\n",
    "measurement_df = pd.concat(dfs, ignore_index=True)\n",
    "# measurement_df"
   ]
  },
  {
   "cell_type": "code",
   "execution_count": 37,
   "id": "03cdc34f",
   "metadata": {},
   "outputs": [],
   "source": [
    "mp = pd.read_excel(\"P1b/Messprotokoll_18_04_2023_open_V1.xlsx\", sheet_name='Tabelle2').rename(columns={\n",
    "    \"Messung\": \"measurement\", \n",
    "    \"Gegenstand\": \"object\", \n",
    "    \"Postion\": \"position\", \n",
    "    \"Dateienname \": \"filename\", \n",
    "    \"Bild \": \"picture\"\n",
    "})"
   ]
  },
  {
   "cell_type": "code",
   "execution_count": 38,
   "id": "337bf10a",
   "metadata": {},
   "outputs": [
    {
     "name": "stdout",
     "output_type": "stream",
     "text": [
      "<class 'pandas.core.frame.DataFrame'>\n",
      "RangeIndex: 3000 entries, 0 to 2999\n",
      "Data columns (total 79 columns):\n",
      " #   Column                   Non-Null Count  Dtype  \n",
      "---  ------                   --------------  -----  \n",
      " 0   (ANT 1, DAC Value)       3000 non-null   float64\n",
      " 1   (ANT 1, DAC Value RAW)   3000 non-null   int64  \n",
      " 2   (ANT 1, Magnitute)       3000 non-null   float64\n",
      " 3   (ANT 1, Phase)           3000 non-null   float64\n",
      " 4   (ANT 1, Frequency)       3000 non-null   int64  \n",
      " 5   (ANT 2, DAC Value)       3000 non-null   float64\n",
      " 6   (ANT 2, DAC Value RAW)   3000 non-null   int64  \n",
      " 7   (ANT 2, Magnitute)       3000 non-null   float64\n",
      " 8   (ANT 2, Phase)           3000 non-null   float64\n",
      " 9   (ANT 2, Frequency)       3000 non-null   int64  \n",
      " 10  (ANT 3, DAC Value)       3000 non-null   float64\n",
      " 11  (ANT 3, DAC Value RAW)   3000 non-null   int64  \n",
      " 12  (ANT 3, Magnitute)       3000 non-null   float64\n",
      " 13  (ANT 3, Phase)           3000 non-null   float64\n",
      " 14  (ANT 3, Frequency)       3000 non-null   int64  \n",
      " 15  (ANT 4, DAC Value)       3000 non-null   float64\n",
      " 16  (ANT 4, DAC Value RAW)   3000 non-null   int64  \n",
      " 17  (ANT 4, Magnitute)       3000 non-null   float64\n",
      " 18  (ANT 4, Phase)           3000 non-null   float64\n",
      " 19  (ANT 4, Frequency)       3000 non-null   int64  \n",
      " 20  (ANT 5, DAC Value)       3000 non-null   float64\n",
      " 21  (ANT 5, DAC Value RAW)   3000 non-null   int64  \n",
      " 22  (ANT 5, Magnitute)       3000 non-null   float64\n",
      " 23  (ANT 5, Phase)           3000 non-null   float64\n",
      " 24  (ANT 5, Frequency)       3000 non-null   int64  \n",
      " 25  (ANT 6, DAC Value)       3000 non-null   float64\n",
      " 26  (ANT 6, DAC Value RAW)   3000 non-null   int64  \n",
      " 27  (ANT 6, Magnitute)       3000 non-null   float64\n",
      " 28  (ANT 6, Phase)           3000 non-null   float64\n",
      " 29  (ANT 6, Frequency)       3000 non-null   int64  \n",
      " 30  (ANT 7, DAC Value)       3000 non-null   float64\n",
      " 31  (ANT 7, DAC Value RAW)   3000 non-null   int64  \n",
      " 32  (ANT 7, Magnitute)       3000 non-null   float64\n",
      " 33  (ANT 7, Phase)           3000 non-null   float64\n",
      " 34  (ANT 7, Frequency)       3000 non-null   int64  \n",
      " 35  (ANT 8, DAC Value)       3000 non-null   float64\n",
      " 36  (ANT 8, DAC Value RAW)   3000 non-null   int64  \n",
      " 37  (ANT 8, Magnitute)       3000 non-null   float64\n",
      " 38  (ANT 8, Phase)           3000 non-null   float64\n",
      " 39  (ANT 8, Frequency)       3000 non-null   int64  \n",
      " 40  (ANT 9, DAC Value)       3000 non-null   float64\n",
      " 41  (ANT 9, DAC Value RAW)   3000 non-null   int64  \n",
      " 42  (ANT 9, Magnitute)       3000 non-null   float64\n",
      " 43  (ANT 9, Phase)           3000 non-null   float64\n",
      " 44  (ANT 9, Frequency)       3000 non-null   int64  \n",
      " 45  (ANT 10, DAC Value)      3000 non-null   float64\n",
      " 46  (ANT 10, DAC Value RAW)  3000 non-null   int64  \n",
      " 47  (ANT 10, Magnitute)      3000 non-null   float64\n",
      " 48  (ANT 10, Phase)          3000 non-null   float64\n",
      " 49  (ANT 10, Frequency)      3000 non-null   int64  \n",
      " 50  (ANT 11, DAC Value)      3000 non-null   float64\n",
      " 51  (ANT 11, DAC Value RAW)  3000 non-null   int64  \n",
      " 52  (ANT 11, Magnitute)      3000 non-null   float64\n",
      " 53  (ANT 11, Phase)          3000 non-null   float64\n",
      " 54  (ANT 11, Frequency)      3000 non-null   int64  \n",
      " 55  (ANT 12, DAC Value)      3000 non-null   float64\n",
      " 56  (ANT 12, DAC Value RAW)  3000 non-null   int64  \n",
      " 57  (ANT 12, Magnitute)      3000 non-null   float64\n",
      " 58  (ANT 12, Phase)          3000 non-null   float64\n",
      " 59  (ANT 12, Frequency)      3000 non-null   int64  \n",
      " 60  (ANT 13, DAC Value)      3000 non-null   float64\n",
      " 61  (ANT 13, DAC Value RAW)  3000 non-null   int64  \n",
      " 62  (ANT 13, Magnitute)      3000 non-null   float64\n",
      " 63  (ANT 13, Phase)          3000 non-null   float64\n",
      " 64  (ANT 13, Frequency)      3000 non-null   int64  \n",
      " 65  (ANT 14, DAC Value)      3000 non-null   float64\n",
      " 66  (ANT 14, DAC Value RAW)  3000 non-null   int64  \n",
      " 67  (ANT 14, Magnitute)      3000 non-null   float64\n",
      " 68  (ANT 14, Phase)          3000 non-null   float64\n",
      " 69  (ANT 14, Frequency)      3000 non-null   int64  \n",
      " 70  (ANT 15, DAC Value)      3000 non-null   float64\n",
      " 71  (ANT 15, DAC Value RAW)  3000 non-null   int64  \n",
      " 72  (ANT 15, Magnitute)      3000 non-null   float64\n",
      " 73  (ANT 15, Phase)          3000 non-null   float64\n",
      " 74  (ANT 15, Frequency)      3000 non-null   int64  \n",
      " 75  (filename, )             3000 non-null   object \n",
      " 76  (object, )               2700 non-null   object \n",
      " 77  (position, )             2580 non-null   object \n",
      " 78  (picture, )              2580 non-null   float64\n",
      "dtypes: float64(46), int64(30), object(3)\n",
      "memory usage: 1.8+ MB\n"
     ]
    }
   ],
   "source": [
    "# Convert the 'filename' column to strings and strip any leading/trailing spaces\n",
    "measurement_df['filename'] = measurement_df['filename'].astype(str).str.strip()\n",
    "mp['filename'] = mp['filename'].astype(str).str.strip()\n",
    "\n",
    "# Set 'filename' as the index in the mp DataFrame\n",
    "mp = mp.set_index('filename')\n",
    "\n",
    "# Perform the mapping for each column\n",
    "measurement_df['object'] = measurement_df['filename'].map(mp['object'])\n",
    "measurement_df['position'] = measurement_df['filename'].map(mp['position'])\n",
    "measurement_df['picture'] = measurement_df['filename'].map(mp['picture'])\n",
    "measurement_df.info()"
   ]
  },
  {
   "cell_type": "code",
   "execution_count": null,
   "id": "285d4765",
   "metadata": {},
   "outputs": [],
   "source": []
  },
  {
   "cell_type": "code",
   "execution_count": 39,
   "id": "251685e2",
   "metadata": {},
   "outputs": [],
   "source": [
    "# file_paths = glob.glob(\"P1b/Measurements_8_April_2023_IMP-SIMO/*.xls\")\n",
    "\n",
    "# dfs =[]\n",
    "\n",
    "# for file in file_paths:\n",
    "#     sheets = pd.read_excel(file, sheet_name=None, usecols=[0,1,2,3,4])\n",
    "\n",
    "#     for sheet_name, df in sheets.items():\n",
    "#         df[\"sheetname\"] = sheet_name\n",
    "#         df[\"filename\"] = os.path.basename(file)\n",
    "\n",
    "#         dfs.append(df)\n",
    "    \n",
    "# final_df = pd.concat(dfs, ignore_index=True)\n",
    "# final_df.set_index([\"sheetname\", \"filename\"]).sort_index()"
   ]
  },
  {
   "cell_type": "markdown",
   "id": "9bf620f2-eebd-4e46-998e-553adbdf7308",
   "metadata": {},
   "source": [
    "## 2. Print some statistics and analyze"
   ]
  },
  {
   "cell_type": "markdown",
   "id": "7fedfa79-4215-44fe-b648-b5a70d1b2169",
   "metadata": {},
   "source": [
    "## 3. Visualize the data\n",
    "* Scatter Plot\n",
    "* Box Plot\n",
    "* Histogram"
   ]
  },
  {
   "cell_type": "markdown",
   "id": "4a8d97e8-cc58-4b26-9368-33dc7b3b26a7",
   "metadata": {},
   "source": [
    "## 4. Conclusion\n"
   ]
  },
  {
   "cell_type": "code",
   "execution_count": null,
   "id": "15dcddb3-ade7-4dba-9fcd-73e0f0c7219c",
   "metadata": {
    "tags": []
   },
   "outputs": [],
   "source": []
  }
 ],
 "metadata": {
  "kernelspec": {
   "display_name": "Python 3",
   "language": "python",
   "name": "python3"
  },
  "language_info": {
   "codemirror_mode": {
    "name": "ipython",
    "version": 3
   },
   "file_extension": ".py",
   "mimetype": "text/x-python",
   "name": "python",
   "nbconvert_exporter": "python",
   "pygments_lexer": "ipython3",
   "version": "3.12.10"
  }
 },
 "nbformat": 4,
 "nbformat_minor": 5
}
