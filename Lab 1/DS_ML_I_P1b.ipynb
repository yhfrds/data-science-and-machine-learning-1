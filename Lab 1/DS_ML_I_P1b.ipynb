{
 "cells": [
  {
   "cell_type": "markdown",
   "id": "256305fd-460d-4e99-904a-504c35b2448b",
   "metadata": {},
   "source": [
    "<span style='color:red'> NOTE: You can only pass the lab, when you provide both code and markdown </span>\n",
    "\n",
    "Use Code for your analysis\n",
    "Use Markdown to document and elaborate on your findings, conclusions, assertions, etc."
   ]
  },
  {
   "cell_type": "markdown",
   "id": "e81e20cd-10a9-44b2-8de5-7a0540131045",
   "metadata": {},
   "source": [
    "# DS_ML_I_P1: Dataset creation from raw data \n",
    "Provided is a list of Excel-Files that stem from a radar measurement using an array of 15 Antennas and a frequency sweep. Another Excel sheet provides information on the type of object that should be detected and its orientation.\n",
    "\n",
    "The overall task is to load the data into **a single dataframe**, add the **proper information on object**, **orientation** and **the name of the image that shows the object** (which is not provided here)\n"
   ]
  },
  {
   "cell_type": "markdown",
   "id": "ecba50ce-17ea-41cc-84d0-a0555c5bbaff",
   "metadata": {},
   "source": [
    "## 1. Load the data and check proper loading\n",
    "Load all the data into a single dataframe so that\n",
    "* The name of the file is a separat column\n",
    "* Only the first five columns and all rows per Sheet tab should be integrated (15 Tabs in total, one per Antenna)\n",
    "* Sheet tab name should be the major index in a multiindex column dataframe\n",
    "* Tab column names should be the minor index\n",
    "* After this dataframe has been created the object information, orientation and image name should be added as separate columns by integrating the information from the specific excel sheet."
   ]
  },
  {
   "cell_type": "code",
   "execution_count": 1,
   "id": "1b5fe18b",
   "metadata": {},
   "outputs": [],
   "source": [
    "import pandas as pd\n",
    "import glob\n",
    "import os\n",
    "import numpy as np"
   ]
  },
  {
   "cell_type": "markdown",
   "id": "2fe61a4e",
   "metadata": {},
   "source": [
    "The code loads measurement data from multiple Excel files, each containing measurement data from 15 antennas, and organizes it into one structured DataFrame. It fulfills the task requirements by:\n",
    "\n",
    "* Combining all files into a single DataFrame,\n",
    "* Adding the filename as extra information,\n",
    "* Using a MultiIndex for the columns (major: sheet name / minor: five measurement values from each sheet)."
   ]
  },
  {
   "cell_type": "code",
   "execution_count": 3,
   "id": "6acd353c",
   "metadata": {},
   "outputs": [
    {
     "name": "stdout",
     "output_type": "stream",
     "text": [
      "CPU times: total: 7.06 s\n",
      "Wall time: 7.5 s\n"
     ]
    }
   ],
   "source": [
    "%%time\n",
    "file_paths = glob.glob(\"P1b/Measurements_8_April_2023_IMP-SIMO/*.xls\")\n",
    "\n",
    "dfs =[]\n",
    "\n",
    "for file in file_paths:\n",
    "    file_data = []\n",
    "    sheets = pd.read_excel(file, sheet_name=None, usecols=[0,1,2,3,4])\n",
    "\n",
    "    for sheet_name, df in sheets.items():\n",
    "        multi_columns = [\n",
    "            np.repeat(sheet_name,len(df.columns)),\n",
    "            df.columns.to_list()\n",
    "        ]\n",
    "        df.columns = pd.MultiIndex.from_arrays(multi_columns, names=['major','minor'])\n",
    "        file_data.append(df)\n",
    "\n",
    "    df[\"filename\"] = os.path.splitext(os.path.basename(file))[0]\n",
    "    dfs.append(pd.concat(file_data, axis=1))\n",
    "\n",
    "measurement_df = pd.concat(dfs, ignore_index=True)"
   ]
  },
  {
   "cell_type": "markdown",
   "id": "2e1aeaaa",
   "metadata": {},
   "source": [
    "The object information was read into a DataFrame from the measurement protocol file specified in the code. Each column name was then translated into English."
   ]
  },
  {
   "cell_type": "code",
   "execution_count": 11,
   "id": "03cdc34f",
   "metadata": {},
   "outputs": [],
   "source": [
    "oi = pd.read_excel(\"P1b/Messprotokoll_18_04_2023_open_V1.xlsx\", sheet_name='Tabelle2').rename(columns={\n",
    "    \"Messung\": \"measurement\", \n",
    "    \"Gegenstand\": \"object\", \n",
    "    \"Postion\": \"position\", \n",
    "    \"Dateienname \": \"filename\", \n",
    "    \"Bild \": \"picture\"\n",
    "})"
   ]
  },
  {
   "cell_type": "markdown",
   "id": "aee4965a",
   "metadata": {},
   "source": [
    "Each row's filename in the measurement dataframe (`measurement_df`) is mapped to the corresponding object, orientation, and image name in the object information DataFrame (`oi`), where the column filename was set as key. "
   ]
  },
  {
   "cell_type": "code",
   "execution_count": 12,
   "id": "337bf10a",
   "metadata": {},
   "outputs": [],
   "source": [
    "oi['filename'] = oi['filename'].astype(str).str.strip()\n",
    "oi = oi.set_index('filename')\n",
    "\n",
    "measurement_df['filename'] = measurement_df['filename'].astype(str).str.strip()\n",
    "\n",
    "measurement_df['object'] = measurement_df['filename'].map(mp['object'])\n",
    "measurement_df['orientation'] = measurement_df['filename'].map(mp['position'])\n",
    "measurement_df['image_name'] = measurement_df['filename'].map(mp['picture'])"
   ]
  },
  {
   "cell_type": "markdown",
   "id": "9bf620f2-eebd-4e46-998e-553adbdf7308",
   "metadata": {},
   "source": [
    "## 2. Print some statistics and analyze"
   ]
  },
  {
   "cell_type": "markdown",
   "id": "7fedfa79-4215-44fe-b648-b5a70d1b2169",
   "metadata": {},
   "source": [
    "## 3. Visualize the data\n",
    "* Scatter Plot\n",
    "* Box Plot\n",
    "* Histogram"
   ]
  },
  {
   "cell_type": "markdown",
   "id": "4a8d97e8-cc58-4b26-9368-33dc7b3b26a7",
   "metadata": {},
   "source": [
    "## 4. Conclusion\n"
   ]
  },
  {
   "cell_type": "code",
   "execution_count": null,
   "id": "15dcddb3-ade7-4dba-9fcd-73e0f0c7219c",
   "metadata": {
    "tags": []
   },
   "outputs": [],
   "source": []
  }
 ],
 "metadata": {
  "kernelspec": {
   "display_name": "base",
   "language": "python",
   "name": "python3"
  },
  "language_info": {
   "codemirror_mode": {
    "name": "ipython",
    "version": 3
   },
   "file_extension": ".py",
   "mimetype": "text/x-python",
   "name": "python",
   "nbconvert_exporter": "python",
   "pygments_lexer": "ipython3",
   "version": "3.12.4"
  }
 },
 "nbformat": 4,
 "nbformat_minor": 5
}
