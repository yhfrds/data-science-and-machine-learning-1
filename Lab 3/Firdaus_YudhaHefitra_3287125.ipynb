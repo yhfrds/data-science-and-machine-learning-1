{
 "cells": [
  {
   "cell_type": "code",
   "execution_count": null,
   "id": "119d8ae2-4f8f-4b1b-9b04-6ab3caea29ba",
   "metadata": {},
   "outputs": [],
   "source": []
  },
  {
   "cell_type": "markdown",
   "id": "ff3ef025-b607-4aaa-82c3-b1cdf434999e",
   "metadata": {},
   "source": [
    "<span style='color:red'> NOTE: You can only pass the lab, when you provide both code and markdown </span>\n",
    "\n",
    "Use Code for your analysis\n",
    "Use Markdown to document and elaborate on your findings, conclusions, assertions, etc."
   ]
  },
  {
   "cell_type": "markdown",
   "id": "537ec496-bfe1-45b1-a4b2-13f492270f13",
   "metadata": {
    "tags": []
   },
   "source": [
    "# DS_ML_I_P3: Visualizing a large Dataset and Checking for Simpsons Paradox\n",
    "Below you will find a large(r) dataset with time series data of environmental sensors\n",
    "\n",
    "\n",
    "Hint: Rooms with a '0' as second digit have a different orientation than rooms with a '1'\n",
    "\n",
    "You might use you own dataset as well under the asumption:\n",
    "* you have time series data\n",
    "* you have at least three additional features that depend on time\n"
   ]
  },
  {
   "cell_type": "code",
   "execution_count": null,
   "id": "fa3e4d95-9e27-4ecb-9c87-ab48745e780b",
   "metadata": {},
   "outputs": [],
   "source": [
    "import pandas as pd\n",
    "import numpy as np\n",
    "import matplotlib.pyplot as plt\n",
    "import seaborn as sns\n",
    "sns.set()\n",
    "\n",
    "import plotly.express as px\n",
    "import plotly.graph_objects as go"
   ]
  },
  {
   "cell_type": "markdown",
   "id": "c2b53acf-c3dc-404f-8165-c3ea58c954aa",
   "metadata": {},
   "source": [
    "## 1 Load the data into a dataframe and convert the date strings\n",
    "\n",
    "Hint, you might also find a parquet file. In that case, you can use the parquet file. It has the date already converted."
   ]
  },
  {
   "cell_type": "code",
   "execution_count": null,
   "id": "7794791e-aa0b-49e3-b048-88740d245690",
   "metadata": {},
   "outputs": [],
   "source": [
    "%time df = pd.read_csv(r\"..\\07092021bimsim_room.csv\", sep=\",\")"
   ]
  },
  {
   "cell_type": "markdown",
   "id": "9d26ed5e-ab49-477b-ac8c-84bd5680d8e2",
   "metadata": {},
   "source": [
    "## 2 Remove duplicate or unused data to reduce total memory consumption\n",
    "\n",
    "Domain knowledge:\n",
    "* the columns \"source\" and \"sensor\" are identical\n",
    "* \"sensor\" and \"room\" have a 1:1 mapping\n",
    "* \"id\" contains the datetime as float\n",
    "* some sensors might deliver negative temperatures <100°C. This is an errorneous measurement"
   ]
  },
  {
   "cell_type": "code",
   "execution_count": null,
   "id": "129acfb0-78d7-4e64-93c1-3dd040efde77",
   "metadata": {},
   "outputs": [],
   "source": [
    "# your code here"
   ]
  },
  {
   "cell_type": "markdown",
   "id": "1a4f0c53-03c2-4731-8fbd-d958cd187cfc",
   "metadata": {},
   "source": [
    "## 3 Visualize the data \n",
    "\n",
    "Perform Visualizations for different types of diagrams using either\n",
    "\n",
    "1. matpolotlib/seaborn\n",
    "2. plotly\n",
    "\n",
    "**Important Hint**: Check the total volume of data points first. If needed create a digestible subset. Keep in mind, that visualizing large volumes of data points (i.e. > 10e5) can significantly slow down the notebook. Too many datapoints might even crash the browser, due to limited RAM availability for a browser tab in all common browsers."
   ]
  },
  {
   "cell_type": "code",
   "execution_count": null,
   "id": "1e054a24-18ea-4cc2-aa30-34fa7db6c0a0",
   "metadata": {},
   "outputs": [],
   "source": []
  },
  {
   "cell_type": "markdown",
   "id": "bfeb9acd-2c2a-4a34-9b37-b1d521b3147b",
   "metadata": {},
   "source": [
    "## 3.0 Create different table aggregations to check for \"Simposons Paradox\"\n",
    "Hints: \n",
    "* Find an appropriate aggregation of which you think, it could generate a paradox. E.g. compare an aggregation of multiple rooms with a single rooom.\n",
    "* Rooms with a '0' in the middle are on one side of the building, with a '1' on another.\n",
    "* There are also errorneous values in the data, that you might want to remove first.\n",
    "* Consider different time spans. During the winter period, many rooms a heated. During summer, the room temperatures are more influenced by the outside environmental conditions"
   ]
  },
  {
   "cell_type": "code",
   "execution_count": null,
   "id": "d506c477-8bb8-4337-b3d6-bf0cd3ab5518",
   "metadata": {},
   "outputs": [],
   "source": [
    "# your code here"
   ]
  },
  {
   "cell_type": "markdown",
   "id": "368d19e4-386a-4766-813d-8eac3791b172",
   "metadata": {},
   "source": [
    "## 3.1 Create a graph over time\n",
    "Use the line or scatter graphs to check for simpsons paradox.\n",
    "What is the difference in the perception of the data when using line graphs compared to scatter graphs? Think about missing data!"
   ]
  },
  {
   "cell_type": "code",
   "execution_count": null,
   "id": "10d143ff-26bd-4a48-9513-b26a5aca0d2d",
   "metadata": {},
   "outputs": [],
   "source": [
    "# your code here"
   ]
  },
  {
   "cell_type": "code",
   "execution_count": null,
   "id": "93d60fc2-e3a8-4e67-b24a-bbce6966fb53",
   "metadata": {},
   "outputs": [],
   "source": [
    "# your code here"
   ]
  },
  {
   "cell_type": "markdown",
   "id": "077b4f3f-af54-4f8d-a544-baa3a7b5d496",
   "metadata": {},
   "source": [
    "## 3.2 Create a 2D and 3D scatterplot for the environmental data"
   ]
  },
  {
   "cell_type": "code",
   "execution_count": null,
   "id": "9b3b10d5-25db-4492-bb83-fb9e6e570be5",
   "metadata": {
    "tags": []
   },
   "outputs": [],
   "source": [
    "# your code here"
   ]
  }
 ],
 "metadata": {
  "kernelspec": {
   "display_name": "Python 3 (ipykernel)",
   "language": "python",
   "name": "python3"
  },
  "language_info": {
   "codemirror_mode": {
    "name": "ipython",
    "version": 3
   },
   "file_extension": ".py",
   "mimetype": "text/x-python",
   "name": "python",
   "nbconvert_exporter": "python",
   "pygments_lexer": "ipython3",
   "version": "3.9.19"
  }
 },
 "nbformat": 4,
 "nbformat_minor": 5
}
