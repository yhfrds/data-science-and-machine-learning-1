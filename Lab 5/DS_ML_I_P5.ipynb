{
 "cells": [
  {
   "cell_type": "markdown",
   "id": "cd268ba0-070b-4857-93e2-86cb6aa0ae5e",
   "metadata": {},
   "source": [
    "<span style='color:red'> NOTE: You can only pass the lab, when you provide both code and markdown </span>\n",
    "\n",
    "Use Code for your analysis\n",
    "Use Markdown to document and elaborate on your findings, conclusions, assertions, etc."
   ]
  },
  {
   "cell_type": "markdown",
   "id": "168c3696-153b-4bb7-ad95-f664c0754750",
   "metadata": {
    "tags": []
   },
   "source": [
    "# DS_ML_I_P5: Classification of Image Data"
   ]
  },
  {
   "cell_type": "markdown",
   "id": "3ca7f487-0b7b-494c-9c6f-8e7b2109c857",
   "metadata": {},
   "source": [
    "## 5.1 Load the MNIST Data-Set\n",
    "* get the data using code below\n",
    "* assemble information on number of images, size of images, distribution among different classes"
   ]
  },
  {
   "cell_type": "code",
   "execution_count": null,
   "id": "8c93b0a1-c5a5-4e72-9d81-39b14b6e6871",
   "metadata": {},
   "outputs": [],
   "source": [
    "from sklearn.datasets import fetch_openml\n",
    "from math import sqrt\n",
    "import pandas as pd\n",
    "import numpy as np\n",
    "# if we loaded the dataset using fetch_openml before, we can use the previously stored parquet file (which laods much faster)\n",
    "preloaded = True"
   ]
  },
  {
   "cell_type": "code",
   "execution_count": null,
   "id": "24f380aa-e23c-47e9-8fee-721517f99a2c",
   "metadata": {},
   "outputs": [],
   "source": [
    "if preloaded == False:\n",
    "    X, y = fetch_openml(\"mnist_784\", version=1, return_X_y=True)\n",
    "    display(type(X), type(y))\n",
    "else:\n",
    "    %time df_mnist = pd.read_parquet(\"MNIST.parquet\")\n",
    "    X = df_mnist.iloc[:, 0:784]\n",
    "    y = df_mnist.iloc[:, 784]"
   ]
  },
  {
   "cell_type": "markdown",
   "id": "a023fc03-5ffb-4af2-a781-f9a0b447a7a1",
   "metadata": {},
   "source": [
    "## 5.2 Visualize the input data\n",
    "* Display at least two images for each class in the dataset\n",
    "* Show the class identity per image"
   ]
  },
  {
   "cell_type": "markdown",
   "id": "df72e345-f2f5-442e-a9b0-caebddc9079a",
   "metadata": {},
   "source": [
    "## 5.3 Train a k-NN Classifier and Check the Performance"
   ]
  },
  {
   "cell_type": "markdown",
   "id": "4862abd4-4ee0-4e9b-801e-70ef7466c584",
   "metadata": {},
   "source": [
    "### 5.3.1 Import the required modules for classifier and performance measurement"
   ]
  },
  {
   "cell_type": "code",
   "execution_count": null,
   "id": "2e341bdd-bb05-425e-9548-8e4deee4e2fd",
   "metadata": {},
   "outputs": [],
   "source": [
    "from sklearn.neighbors import KNeighborsClassifier"
   ]
  },
  {
   "cell_type": "code",
   "execution_count": null,
   "id": "21073fad-82d0-41a3-b943-53aa8eecd0ea",
   "metadata": {},
   "outputs": [],
   "source": [
    "from sklearn.model_selection import train_test_split\n",
    "from sklearn.model_selection import cross_validate"
   ]
  },
  {
   "cell_type": "markdown",
   "id": "54249a59-d080-4121-9fbe-79b8c691c66e",
   "metadata": {},
   "source": [
    "### 5.3.2 Train the classifier using 3-fold cross_validation \n",
    "* create a training and testing set\n",
    "* train the classifer with cross_validate, check the documentation: What does cross_validate return?"
   ]
  },
  {
   "cell_type": "markdown",
   "id": "1708734e-3955-4be0-bdf8-272b90aa65a1",
   "metadata": {},
   "source": [
    "### 5.3.3 Use the best classifier from the previuous run and check with your test set \n",
    "* Generate a classification report\n",
    "* Generate a confusion matrix"
   ]
  },
  {
   "cell_type": "code",
   "execution_count": null,
   "id": "039aa0f0-3c57-4f2a-8d76-944d31601b22",
   "metadata": {},
   "outputs": [],
   "source": [
    "from sklearn.metrics import classification_report, confusion_matrix"
   ]
  },
  {
   "cell_type": "markdown",
   "id": "651c6f1e-d766-4a1b-80b0-b34ed96f5524",
   "metadata": {},
   "source": [
    "# 5.4 Train a Decision Tree Classifier and Check the Performance"
   ]
  },
  {
   "cell_type": "code",
   "execution_count": null,
   "id": "d7032440-f455-4651-beda-fa34eb4efe3e",
   "metadata": {},
   "outputs": [],
   "source": [
    "from sklearn.tree import DecisionTreeClassifier"
   ]
  },
  {
   "cell_type": "markdown",
   "id": "3d2205ae-7788-4a2b-8a23-b037d5d57654",
   "metadata": {},
   "source": [
    "### 5.4.1 Train the classifier using 3-fold cross_validation"
   ]
  },
  {
   "cell_type": "markdown",
   "id": "d7c2c116-5ed4-45b2-8135-14c14a1424c9",
   "metadata": {},
   "source": [
    "### 5.4.2 Check the performance with your test set"
   ]
  },
  {
   "cell_type": "markdown",
   "id": "8e086af4-5d42-4681-9bc5-d63cd5634153",
   "metadata": {},
   "source": [
    "## 5.5 Improve with random forests"
   ]
  },
  {
   "cell_type": "code",
   "execution_count": null,
   "id": "e6ed4b65-cfc3-4eba-ba02-fa2633262d40",
   "metadata": {},
   "outputs": [],
   "source": [
    "from sklearn.ensemble import RandomForestClassifier"
   ]
  },
  {
   "cell_type": "markdown",
   "id": "4af29985-71e3-44f2-8cba-cab1b2183f0a",
   "metadata": {
    "tags": []
   },
   "source": [
    "## 5.6 Further improvement: Gradient Boosting (non Random) Forests"
   ]
  },
  {
   "cell_type": "code",
   "execution_count": null,
   "id": "dd98a462-cc93-428f-b310-581f0c72cce0",
   "metadata": {
    "tags": []
   },
   "outputs": [],
   "source": [
    "from sklearn.ensemble import GradientBoostingClassifier"
   ]
  }
 ],
 "metadata": {
  "kernelspec": {
   "display_name": "Python 3 (ipykernel)",
   "language": "python",
   "name": "python3"
  },
  "language_info": {
   "codemirror_mode": {
    "name": "ipython",
    "version": 3
   },
   "file_extension": ".py",
   "mimetype": "text/x-python",
   "name": "python",
   "nbconvert_exporter": "python",
   "pygments_lexer": "ipython3",
   "version": "3.9.19"
  }
 },
 "nbformat": 4,
 "nbformat_minor": 5
}
