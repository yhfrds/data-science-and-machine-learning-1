{
 "cells": [
  {
   "cell_type": "markdown",
   "id": "2fd07abb-a8dd-4b6c-9240-0b06fc627762",
   "metadata": {
    "tags": []
   },
   "source": [
    "<span style='color:red'> NOTE: You can only pass the lab, when you provide both code and markdown </span>\n",
    "\n",
    "Use Code for your analysis\n",
    "Use Markdown to document and elaborate on your findings, conclusions, assertions, etc."
   ]
  },
  {
   "cell_type": "markdown",
   "id": "bef8af1e-58c5-4be8-92ff-89d0faf7a502",
   "metadata": {
    "tags": []
   },
   "source": [
    "# DS_ML_I_P2: Excercise: Working with missing data\n",
    "This excercise should give you some practice in working with missing data of different feature types"
   ]
  },
  {
   "cell_type": "markdown",
   "id": "ed408810-aab2-4903-a2ec-c4bf9b32f4dd",
   "metadata": {},
   "source": [
    "## Load the iris dataset with missing values into a dataframe \n",
    "File: datasets.zip/datasets/iris/data_someMissing.all\n",
    "\n",
    "Hint: When data is missing, pandas might not be able to determine the proper type of columns by itself. Look carefully at the data types and act accordingly! You have different options to change the types of columns:\n",
    "* When reading, have a look at [pandas.read_csv](https://pandas.pydata.org/docs/reference/api/pandas.read_csv.html), esp the parameter *na_filter*\n",
    "* In memory, have a look at [dataframe.astype](https://pandas.pydata.org/docs/reference/api/pandas.DataFrame.astype.html) and the transformation functions [dataframe.apply](https://pandas.pydata.org/docs/reference/api/pandas.DataFrame.apply.html) in combination with [pandas.to_numeric](https://pandas.pydata.org/docs/reference/api/pandas.to_numeric.html)"
   ]
  },
  {
   "cell_type": "code",
   "execution_count": 233,
   "id": "6f8573a0",
   "metadata": {},
   "outputs": [],
   "source": [
    "import pandas as pd"
   ]
  },
  {
   "cell_type": "markdown",
   "id": "9f7e7569",
   "metadata": {},
   "source": [
    "Read the `.all` file and set whitespace as separator and treat the `?` as missing values. Header doesn't exist in the file, hence it was specified when the file is read to treat it accordingly."
   ]
  },
  {
   "cell_type": "code",
   "execution_count": 234,
   "id": "1ced2446",
   "metadata": {},
   "outputs": [],
   "source": [
    "df = pd.read_csv(\"datasets/iris/data_someMissing.all\", sep=' ', header=None, na_filter=True, na_values='?', names=['sl','sw','pl','pw','class'])"
   ]
  },
  {
   "cell_type": "code",
   "execution_count": 235,
   "id": "ff8c16dc",
   "metadata": {},
   "outputs": [
    {
     "data": {
      "text/plain": [
       "Index(['sl', 'sw', 'pl', 'pw', 'class'], dtype='object')"
      ]
     },
     "execution_count": 235,
     "metadata": {},
     "output_type": "execute_result"
    }
   ],
   "source": [
    "df.columns"
   ]
  },
  {
   "cell_type": "code",
   "execution_count": 236,
   "id": "6ae39691",
   "metadata": {},
   "outputs": [
    {
     "name": "stdout",
     "output_type": "stream",
     "text": [
      "<class 'pandas.core.frame.DataFrame'>\n",
      "RangeIndex: 150 entries, 0 to 149\n",
      "Data columns (total 5 columns):\n",
      " #   Column  Non-Null Count  Dtype  \n",
      "---  ------  --------------  -----  \n",
      " 0   sl      149 non-null    float64\n",
      " 1   sw      149 non-null    float64\n",
      " 2   pl      149 non-null    float64\n",
      " 3   pw      148 non-null    float64\n",
      " 4   class   149 non-null    object \n",
      "dtypes: float64(4), object(1)\n",
      "memory usage: 6.0+ KB\n"
     ]
    }
   ],
   "source": [
    "df.info()"
   ]
  },
  {
   "cell_type": "markdown",
   "id": "c84444c7",
   "metadata": {},
   "source": [
    "The following codes show the amount of missing values of each feature, how many rows have at least one missing values, and show the rows"
   ]
  },
  {
   "cell_type": "code",
   "execution_count": 237,
   "id": "6ab1c6c1",
   "metadata": {},
   "outputs": [
    {
     "name": "stdout",
     "output_type": "stream",
     "text": [
      "Amount of missing values of each columns: \n",
      "sl       1\n",
      "sw       1\n",
      "pl       1\n",
      "pw       2\n",
      "class    1\n",
      "dtype: int64\n"
     ]
    }
   ],
   "source": [
    "missing_values_counts = df.isna().sum()\n",
    "print(f\"Amount of missing values of each columns: \\n{missing_values_counts}\")"
   ]
  },
  {
   "cell_type": "code",
   "execution_count": 238,
   "id": "03fc42dc",
   "metadata": {},
   "outputs": [
    {
     "name": "stdout",
     "output_type": "stream",
     "text": [
      "Amount of rows with missing values: 5\n"
     ]
    }
   ],
   "source": [
    "missing_val_rows = df[df.isna().any(axis=1)]\n",
    "print(f\"Amount of rows with missing values: {len(missing_val_rows)}\")"
   ]
  },
  {
   "cell_type": "code",
   "execution_count": 239,
   "id": "f90c7d2e",
   "metadata": {},
   "outputs": [
    {
     "data": {
      "text/html": [
       "<div>\n",
       "<style scoped>\n",
       "    .dataframe tbody tr th:only-of-type {\n",
       "        vertical-align: middle;\n",
       "    }\n",
       "\n",
       "    .dataframe tbody tr th {\n",
       "        vertical-align: top;\n",
       "    }\n",
       "\n",
       "    .dataframe thead th {\n",
       "        text-align: right;\n",
       "    }\n",
       "</style>\n",
       "<table border=\"1\" class=\"dataframe\">\n",
       "  <thead>\n",
       "    <tr style=\"text-align: right;\">\n",
       "      <th></th>\n",
       "      <th>sl</th>\n",
       "      <th>sw</th>\n",
       "      <th>pl</th>\n",
       "      <th>pw</th>\n",
       "      <th>class</th>\n",
       "    </tr>\n",
       "  </thead>\n",
       "  <tbody>\n",
       "    <tr>\n",
       "      <th>6</th>\n",
       "      <td>4.6</td>\n",
       "      <td>3.4</td>\n",
       "      <td>NaN</td>\n",
       "      <td>0.3</td>\n",
       "      <td>Iris-setosa</td>\n",
       "    </tr>\n",
       "    <tr>\n",
       "      <th>9</th>\n",
       "      <td>4.9</td>\n",
       "      <td>3.1</td>\n",
       "      <td>1.5</td>\n",
       "      <td>0.1</td>\n",
       "      <td>NaN</td>\n",
       "    </tr>\n",
       "    <tr>\n",
       "      <th>13</th>\n",
       "      <td>4.3</td>\n",
       "      <td>3.0</td>\n",
       "      <td>1.1</td>\n",
       "      <td>NaN</td>\n",
       "      <td>Iris-setosa</td>\n",
       "    </tr>\n",
       "    <tr>\n",
       "      <th>14</th>\n",
       "      <td>5.8</td>\n",
       "      <td>4.0</td>\n",
       "      <td>1.2</td>\n",
       "      <td>NaN</td>\n",
       "      <td>Iris-setosa</td>\n",
       "    </tr>\n",
       "    <tr>\n",
       "      <th>18</th>\n",
       "      <td>NaN</td>\n",
       "      <td>NaN</td>\n",
       "      <td>1.7</td>\n",
       "      <td>0.3</td>\n",
       "      <td>Iris-setosa</td>\n",
       "    </tr>\n",
       "  </tbody>\n",
       "</table>\n",
       "</div>"
      ],
      "text/plain": [
       "     sl   sw   pl   pw        class\n",
       "6   4.6  3.4  NaN  0.3  Iris-setosa\n",
       "9   4.9  3.1  1.5  0.1          NaN\n",
       "13  4.3  3.0  1.1  NaN  Iris-setosa\n",
       "14  5.8  4.0  1.2  NaN  Iris-setosa\n",
       "18  NaN  NaN  1.7  0.3  Iris-setosa"
      ]
     },
     "execution_count": 239,
     "metadata": {},
     "output_type": "execute_result"
    }
   ],
   "source": [
    "missing_val_rows"
   ]
  },
  {
   "cell_type": "markdown",
   "id": "6e0a772f-f13b-4e4b-9625-bcabd8e7cee7",
   "metadata": {},
   "source": [
    "## What are your options to work with the missing values?\n",
    "My option to handle the mentioned scenarion are either:\n",
    "* Deletion: removing the rows with the missing values (ignoring the datapoint) or removing the columns with too many missing values.\n",
    "\n",
    "* Imputation: replacing missing values with subtituted values. They can be e.g. mean, median, mode, etc. of the existing values or the most-make-sense value based on the other features available (using predictive ML model to impute values)\n",
    "\n",
    "* When missing values is expected (i.e. it is not wrong/faulty), add some flag or default value for the respective missing values\n",
    "\n",
    "## What is their difference with respect to the features of the dataset and the class associations? \n",
    "* **Deletion** can lead to the losing of some observation that might be relevant. It also reduces the dataset size and in extreme case when there are too many missing value rows, the dataset size can shrink very much. These can then affect the overall feature distribution\n",
    "* If the missing values are not randomly distributed and certain classes are more affected by the missingness, the deletion might distort class associations.\n",
    "* **Imputation** on the other hand, can help retain the dataset size and preserve the general structure of the feature distributions and class relationship\n"
   ]
  },
  {
   "cell_type": "markdown",
   "id": "e9ae25a3-8149-47ee-a608-55b7e752d1f3",
   "metadata": {},
   "source": [
    "## Implement some of the options for the dataset\n",
    "* check, how these options change the statistical values of\n",
    "  * each feature\n",
    "  * each class\n",
    "* useful functions in pandas for this step\n",
    "  * find out, if a value [is null](https://pandas.pydata.org/docs/reference/api/pandas.DataFrame.isnull.html)\n",
    "  * [removing data that null ](https://pandas.pydata.org/docs/reference/api/pandas.DataFrame.dropna.html?highlight=dropna)\n",
    "  * [fill null data with other value](https://pandas.pydata.org/docs/reference/api/pandas.DataFrame.fillna.html)\n",
    "  * [replace values](https://pandas.pydata.org/docs/reference/api/pandas.DataFrame.replace.html)"
   ]
  },
  {
   "cell_type": "markdown",
   "id": "cf72d8e1",
   "metadata": {},
   "source": [
    "## Implementation"
   ]
  },
  {
   "cell_type": "markdown",
   "id": "5d8f03f1",
   "metadata": {},
   "source": [
    "### Deletion\n",
    "Basically all rows with missing values are dropped"
   ]
  },
  {
   "cell_type": "code",
   "execution_count": 240,
   "id": "7d792e4f",
   "metadata": {},
   "outputs": [],
   "source": [
    "# your code here\n",
    "df_no_nan = pd.DataFrame()\n",
    "df_no_nan = df.dropna().copy()"
   ]
  },
  {
   "cell_type": "markdown",
   "id": "06814204",
   "metadata": {},
   "source": [
    "### Imputation\n",
    "All missing values in the numeric features were replaced by the median of its respective columns, while the missing values of class association is flagged as unknown"
   ]
  },
  {
   "cell_type": "code",
   "execution_count": 241,
   "id": "e32de46e",
   "metadata": {},
   "outputs": [],
   "source": [
    "df_imputed = pd.DataFrame()\n",
    "df_imputed = df.fillna(df.median(numeric_only=True)).copy()\n",
    "df_imputed['class'] = df['class'].fillna('Unknown')"
   ]
  },
  {
   "cell_type": "markdown",
   "id": "abf7020d",
   "metadata": {},
   "source": [
    "## Statistics & Visualization for Features"
   ]
  },
  {
   "cell_type": "markdown",
   "id": "f326de4d",
   "metadata": {},
   "source": [
    "**Summary Statistic 1**\n",
    "\n",
    "Showing the summary statistics of features of the resulting dataframes from different missing-values-handling methods. This part is relevant to see the mean values"
   ]
  },
  {
   "cell_type": "code",
   "execution_count": 242,
   "id": "f30c90db",
   "metadata": {},
   "outputs": [
    {
     "name": "stdout",
     "output_type": "stream",
     "text": [
      "Summary stats for: Initial Dataset\n",
      "\n",
      "            sl       sw       pl       pw\n",
      "count  149.000  149.000  149.000  148.000\n",
      "mean     5.844    3.052    3.774    1.214\n",
      "std      0.831    0.433    1.761    0.757\n",
      "min      4.300    2.000    1.000    0.100\n",
      "25%      5.100    2.800    1.600    0.300\n",
      "50%      5.800    3.000    4.400    1.300\n",
      "75%      6.400    3.300    5.100    1.800\n",
      "max      7.900    4.400    6.900    2.500\n"
     ]
    }
   ],
   "source": [
    "# print statistics for each of the options you realize\n",
    "print(f\"Summary stats for: Initial Dataset\\n\")\n",
    "print(df.describe().round(3))\n"
   ]
  },
  {
   "cell_type": "code",
   "execution_count": 243,
   "id": "1ab97448-7c21-4cf2-8e10-3ca240dc9a6b",
   "metadata": {
    "tags": []
   },
   "outputs": [
    {
     "name": "stdout",
     "output_type": "stream",
     "text": [
      "Summary stats for: No Missing Value Dataset\n",
      "\n",
      "            sl       sw       pl       pw\n",
      "count  145.000  145.000  145.000  145.000\n",
      "mean     5.870    3.043    3.840    1.234\n",
      "std      0.822    0.431    1.738    0.752\n",
      "min      4.400    2.000    1.000    0.100\n",
      "25%      5.100    2.800    1.600    0.400\n",
      "50%      5.800    3.000    4.400    1.300\n",
      "75%      6.400    3.300    5.100    1.800\n",
      "max      7.900    4.400    6.900    2.500\n"
     ]
    }
   ],
   "source": [
    "print(f\"Summary stats for: No Missing Value Dataset\\n\")\n",
    "print(df_no_nan.describe().round(3))\n"
   ]
  },
  {
   "cell_type": "code",
   "execution_count": 244,
   "id": "0e871565",
   "metadata": {},
   "outputs": [
    {
     "name": "stdout",
     "output_type": "stream",
     "text": [
      "Summary stats for: Imputed Dataset\n",
      "\n",
      "            sl       sw       pl       pw\n",
      "count  150.000  150.000  150.000  150.000\n",
      "mean     5.844    3.052    3.778    1.215\n",
      "std      0.828    0.432    1.755    0.752\n",
      "min      4.300    2.000    1.000    0.100\n",
      "25%      5.100    2.800    1.600    0.300\n",
      "50%      5.800    3.000    4.400    1.300\n",
      "75%      6.400    3.300    5.100    1.800\n",
      "max      7.900    4.400    6.900    2.500\n"
     ]
    }
   ],
   "source": [
    "print(f\"Summary stats for: Imputed Dataset\\n\")\n",
    "print(df_imputed.describe().round(3))"
   ]
  },
  {
   "cell_type": "markdown",
   "id": "a754bd2f",
   "metadata": {},
   "source": [
    "Concatenate dataframes from different hanlding methods for later visualization"
   ]
  },
  {
   "cell_type": "code",
   "execution_count": 245,
   "id": "0dad769b",
   "metadata": {},
   "outputs": [],
   "source": [
    "df['source'] = 'original'\n",
    "df_imputed['source'] = 'imputed'\n",
    "df_no_nan['source'] = 'no_nan'\n",
    "df_combined = pd.concat([df,df_no_nan, df_imputed], ignore_index=True)"
   ]
  },
  {
   "cell_type": "code",
   "execution_count": 246,
   "id": "7db72a12",
   "metadata": {},
   "outputs": [],
   "source": [
    "import plotly.express as px"
   ]
  },
  {
   "cell_type": "markdown",
   "id": "db5a1917",
   "metadata": {},
   "source": [
    "**Visualization 1**\n",
    "\n",
    "Show boxplots of different features accross different missing-values-handling methods"
   ]
  },
  {
   "cell_type": "code",
   "execution_count": 247,
   "id": "4e5b5eef",
   "metadata": {},
   "outputs": [
    {
     "data": {
      "application/vnd.plotly.v1+json": {
       "config": {
        "plotlyServerURL": "https://plot.ly"
       },
       "data": [
        {
         "alignmentgroup": "True",
         "boxmean": true,
         "hovertemplate": "color=original<br>variable=%{x}<br>value=%{y}<extra></extra>",
         "legendgroup": "original",
         "marker": {
          "color": "#636efa"
         },
         "name": "original",
         "notched": false,
         "offsetgroup": "original",
         "orientation": "v",
         "showlegend": true,
         "type": "box",
         "x": [
          "sl",
          "sl",
          "sl",
          "sl",
          "sl",
          "sl",
          "sl",
          "sl",
          "sl",
          "sl",
          "sl",
          "sl",
          "sl",
          "sl",
          "sl",
          "sl",
          "sl",
          "sl",
          "sl",
          "sl",
          "sl",
          "sl",
          "sl",
          "sl",
          "sl",
          "sl",
          "sl",
          "sl",
          "sl",
          "sl",
          "sl",
          "sl",
          "sl",
          "sl",
          "sl",
          "sl",
          "sl",
          "sl",
          "sl",
          "sl",
          "sl",
          "sl",
          "sl",
          "sl",
          "sl",
          "sl",
          "sl",
          "sl",
          "sl",
          "sl",
          "sl",
          "sl",
          "sl",
          "sl",
          "sl",
          "sl",
          "sl",
          "sl",
          "sl",
          "sl",
          "sl",
          "sl",
          "sl",
          "sl",
          "sl",
          "sl",
          "sl",
          "sl",
          "sl",
          "sl",
          "sl",
          "sl",
          "sl",
          "sl",
          "sl",
          "sl",
          "sl",
          "sl",
          "sl",
          "sl",
          "sl",
          "sl",
          "sl",
          "sl",
          "sl",
          "sl",
          "sl",
          "sl",
          "sl",
          "sl",
          "sl",
          "sl",
          "sl",
          "sl",
          "sl",
          "sl",
          "sl",
          "sl",
          "sl",
          "sl",
          "sl",
          "sl",
          "sl",
          "sl",
          "sl",
          "sl",
          "sl",
          "sl",
          "sl",
          "sl",
          "sl",
          "sl",
          "sl",
          "sl",
          "sl",
          "sl",
          "sl",
          "sl",
          "sl",
          "sl",
          "sl",
          "sl",
          "sl",
          "sl",
          "sl",
          "sl",
          "sl",
          "sl",
          "sl",
          "sl",
          "sl",
          "sl",
          "sl",
          "sl",
          "sl",
          "sl",
          "sl",
          "sl",
          "sl",
          "sl",
          "sl",
          "sl",
          "sl",
          "sl",
          "sl",
          "sl",
          "sl",
          "sl",
          "sl",
          "sl",
          "sw",
          "sw",
          "sw",
          "sw",
          "sw",
          "sw",
          "sw",
          "sw",
          "sw",
          "sw",
          "sw",
          "sw",
          "sw",
          "sw",
          "sw",
          "sw",
          "sw",
          "sw",
          "sw",
          "sw",
          "sw",
          "sw",
          "sw",
          "sw",
          "sw",
          "sw",
          "sw",
          "sw",
          "sw",
          "sw",
          "sw",
          "sw",
          "sw",
          "sw",
          "sw",
          "sw",
          "sw",
          "sw",
          "sw",
          "sw",
          "sw",
          "sw",
          "sw",
          "sw",
          "sw",
          "sw",
          "sw",
          "sw",
          "sw",
          "sw",
          "sw",
          "sw",
          "sw",
          "sw",
          "sw",
          "sw",
          "sw",
          "sw",
          "sw",
          "sw",
          "sw",
          "sw",
          "sw",
          "sw",
          "sw",
          "sw",
          "sw",
          "sw",
          "sw",
          "sw",
          "sw",
          "sw",
          "sw",
          "sw",
          "sw",
          "sw",
          "sw",
          "sw",
          "sw",
          "sw",
          "sw",
          "sw",
          "sw",
          "sw",
          "sw",
          "sw",
          "sw",
          "sw",
          "sw",
          "sw",
          "sw",
          "sw",
          "sw",
          "sw",
          "sw",
          "sw",
          "sw",
          "sw",
          "sw",
          "sw",
          "sw",
          "sw",
          "sw",
          "sw",
          "sw",
          "sw",
          "sw",
          "sw",
          "sw",
          "sw",
          "sw",
          "sw",
          "sw",
          "sw",
          "sw",
          "sw",
          "sw",
          "sw",
          "sw",
          "sw",
          "sw",
          "sw",
          "sw",
          "sw",
          "sw",
          "sw",
          "sw",
          "sw",
          "sw",
          "sw",
          "sw",
          "sw",
          "sw",
          "sw",
          "sw",
          "sw",
          "sw",
          "sw",
          "sw",
          "sw",
          "sw",
          "sw",
          "sw",
          "sw",
          "sw",
          "sw",
          "sw",
          "sw",
          "sw",
          "sw",
          "pl",
          "pl",
          "pl",
          "pl",
          "pl",
          "pl",
          "pl",
          "pl",
          "pl",
          "pl",
          "pl",
          "pl",
          "pl",
          "pl",
          "pl",
          "pl",
          "pl",
          "pl",
          "pl",
          "pl",
          "pl",
          "pl",
          "pl",
          "pl",
          "pl",
          "pl",
          "pl",
          "pl",
          "pl",
          "pl",
          "pl",
          "pl",
          "pl",
          "pl",
          "pl",
          "pl",
          "pl",
          "pl",
          "pl",
          "pl",
          "pl",
          "pl",
          "pl",
          "pl",
          "pl",
          "pl",
          "pl",
          "pl",
          "pl",
          "pl",
          "pl",
          "pl",
          "pl",
          "pl",
          "pl",
          "pl",
          "pl",
          "pl",
          "pl",
          "pl",
          "pl",
          "pl",
          "pl",
          "pl",
          "pl",
          "pl",
          "pl",
          "pl",
          "pl",
          "pl",
          "pl",
          "pl",
          "pl",
          "pl",
          "pl",
          "pl",
          "pl",
          "pl",
          "pl",
          "pl",
          "pl",
          "pl",
          "pl",
          "pl",
          "pl",
          "pl",
          "pl",
          "pl",
          "pl",
          "pl",
          "pl",
          "pl",
          "pl",
          "pl",
          "pl",
          "pl",
          "pl",
          "pl",
          "pl",
          "pl",
          "pl",
          "pl",
          "pl",
          "pl",
          "pl",
          "pl",
          "pl",
          "pl",
          "pl",
          "pl",
          "pl",
          "pl",
          "pl",
          "pl",
          "pl",
          "pl",
          "pl",
          "pl",
          "pl",
          "pl",
          "pl",
          "pl",
          "pl",
          "pl",
          "pl",
          "pl",
          "pl",
          "pl",
          "pl",
          "pl",
          "pl",
          "pl",
          "pl",
          "pl",
          "pl",
          "pl",
          "pl",
          "pl",
          "pl",
          "pl",
          "pl",
          "pl",
          "pl",
          "pl",
          "pl",
          "pl",
          "pl",
          "pl",
          "pl",
          "pl",
          "pw",
          "pw",
          "pw",
          "pw",
          "pw",
          "pw",
          "pw",
          "pw",
          "pw",
          "pw",
          "pw",
          "pw",
          "pw",
          "pw",
          "pw",
          "pw",
          "pw",
          "pw",
          "pw",
          "pw",
          "pw",
          "pw",
          "pw",
          "pw",
          "pw",
          "pw",
          "pw",
          "pw",
          "pw",
          "pw",
          "pw",
          "pw",
          "pw",
          "pw",
          "pw",
          "pw",
          "pw",
          "pw",
          "pw",
          "pw",
          "pw",
          "pw",
          "pw",
          "pw",
          "pw",
          "pw",
          "pw",
          "pw",
          "pw",
          "pw",
          "pw",
          "pw",
          "pw",
          "pw",
          "pw",
          "pw",
          "pw",
          "pw",
          "pw",
          "pw",
          "pw",
          "pw",
          "pw",
          "pw",
          "pw",
          "pw",
          "pw",
          "pw",
          "pw",
          "pw",
          "pw",
          "pw",
          "pw",
          "pw",
          "pw",
          "pw",
          "pw",
          "pw",
          "pw",
          "pw",
          "pw",
          "pw",
          "pw",
          "pw",
          "pw",
          "pw",
          "pw",
          "pw",
          "pw",
          "pw",
          "pw",
          "pw",
          "pw",
          "pw",
          "pw",
          "pw",
          "pw",
          "pw",
          "pw",
          "pw",
          "pw",
          "pw",
          "pw",
          "pw",
          "pw",
          "pw",
          "pw",
          "pw",
          "pw",
          "pw",
          "pw",
          "pw",
          "pw",
          "pw",
          "pw",
          "pw",
          "pw",
          "pw",
          "pw",
          "pw",
          "pw",
          "pw",
          "pw",
          "pw",
          "pw",
          "pw",
          "pw",
          "pw",
          "pw",
          "pw",
          "pw",
          "pw",
          "pw",
          "pw",
          "pw",
          "pw",
          "pw",
          "pw",
          "pw",
          "pw",
          "pw",
          "pw",
          "pw",
          "pw",
          "pw",
          "pw",
          "pw",
          "pw",
          "pw",
          "pw"
         ],
         "x0": " ",
         "xaxis": "x",
         "y": {
          "bdata": "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",
          "dtype": "f8"
         },
         "y0": " ",
         "yaxis": "y"
        },
        {
         "alignmentgroup": "True",
         "boxmean": true,
         "hovertemplate": "color=no_nan<br>variable=%{x}<br>value=%{y}<extra></extra>",
         "legendgroup": "no_nan",
         "marker": {
          "color": "#EF553B"
         },
         "name": "no_nan",
         "notched": false,
         "offsetgroup": "no_nan",
         "orientation": "v",
         "showlegend": true,
         "type": "box",
         "x": [
          "sl",
          "sl",
          "sl",
          "sl",
          "sl",
          "sl",
          "sl",
          "sl",
          "sl",
          "sl",
          "sl",
          "sl",
          "sl",
          "sl",
          "sl",
          "sl",
          "sl",
          "sl",
          "sl",
          "sl",
          "sl",
          "sl",
          "sl",
          "sl",
          "sl",
          "sl",
          "sl",
          "sl",
          "sl",
          "sl",
          "sl",
          "sl",
          "sl",
          "sl",
          "sl",
          "sl",
          "sl",
          "sl",
          "sl",
          "sl",
          "sl",
          "sl",
          "sl",
          "sl",
          "sl",
          "sl",
          "sl",
          "sl",
          "sl",
          "sl",
          "sl",
          "sl",
          "sl",
          "sl",
          "sl",
          "sl",
          "sl",
          "sl",
          "sl",
          "sl",
          "sl",
          "sl",
          "sl",
          "sl",
          "sl",
          "sl",
          "sl",
          "sl",
          "sl",
          "sl",
          "sl",
          "sl",
          "sl",
          "sl",
          "sl",
          "sl",
          "sl",
          "sl",
          "sl",
          "sl",
          "sl",
          "sl",
          "sl",
          "sl",
          "sl",
          "sl",
          "sl",
          "sl",
          "sl",
          "sl",
          "sl",
          "sl",
          "sl",
          "sl",
          "sl",
          "sl",
          "sl",
          "sl",
          "sl",
          "sl",
          "sl",
          "sl",
          "sl",
          "sl",
          "sl",
          "sl",
          "sl",
          "sl",
          "sl",
          "sl",
          "sl",
          "sl",
          "sl",
          "sl",
          "sl",
          "sl",
          "sl",
          "sl",
          "sl",
          "sl",
          "sl",
          "sl",
          "sl",
          "sl",
          "sl",
          "sl",
          "sl",
          "sl",
          "sl",
          "sl",
          "sl",
          "sl",
          "sl",
          "sl",
          "sl",
          "sl",
          "sl",
          "sl",
          "sl",
          "sl",
          "sl",
          "sl",
          "sl",
          "sl",
          "sl",
          "sw",
          "sw",
          "sw",
          "sw",
          "sw",
          "sw",
          "sw",
          "sw",
          "sw",
          "sw",
          "sw",
          "sw",
          "sw",
          "sw",
          "sw",
          "sw",
          "sw",
          "sw",
          "sw",
          "sw",
          "sw",
          "sw",
          "sw",
          "sw",
          "sw",
          "sw",
          "sw",
          "sw",
          "sw",
          "sw",
          "sw",
          "sw",
          "sw",
          "sw",
          "sw",
          "sw",
          "sw",
          "sw",
          "sw",
          "sw",
          "sw",
          "sw",
          "sw",
          "sw",
          "sw",
          "sw",
          "sw",
          "sw",
          "sw",
          "sw",
          "sw",
          "sw",
          "sw",
          "sw",
          "sw",
          "sw",
          "sw",
          "sw",
          "sw",
          "sw",
          "sw",
          "sw",
          "sw",
          "sw",
          "sw",
          "sw",
          "sw",
          "sw",
          "sw",
          "sw",
          "sw",
          "sw",
          "sw",
          "sw",
          "sw",
          "sw",
          "sw",
          "sw",
          "sw",
          "sw",
          "sw",
          "sw",
          "sw",
          "sw",
          "sw",
          "sw",
          "sw",
          "sw",
          "sw",
          "sw",
          "sw",
          "sw",
          "sw",
          "sw",
          "sw",
          "sw",
          "sw",
          "sw",
          "sw",
          "sw",
          "sw",
          "sw",
          "sw",
          "sw",
          "sw",
          "sw",
          "sw",
          "sw",
          "sw",
          "sw",
          "sw",
          "sw",
          "sw",
          "sw",
          "sw",
          "sw",
          "sw",
          "sw",
          "sw",
          "sw",
          "sw",
          "sw",
          "sw",
          "sw",
          "sw",
          "sw",
          "sw",
          "sw",
          "sw",
          "sw",
          "sw",
          "sw",
          "sw",
          "sw",
          "sw",
          "sw",
          "sw",
          "sw",
          "sw",
          "sw",
          "sw",
          "sw",
          "sw",
          "sw",
          "sw",
          "pl",
          "pl",
          "pl",
          "pl",
          "pl",
          "pl",
          "pl",
          "pl",
          "pl",
          "pl",
          "pl",
          "pl",
          "pl",
          "pl",
          "pl",
          "pl",
          "pl",
          "pl",
          "pl",
          "pl",
          "pl",
          "pl",
          "pl",
          "pl",
          "pl",
          "pl",
          "pl",
          "pl",
          "pl",
          "pl",
          "pl",
          "pl",
          "pl",
          "pl",
          "pl",
          "pl",
          "pl",
          "pl",
          "pl",
          "pl",
          "pl",
          "pl",
          "pl",
          "pl",
          "pl",
          "pl",
          "pl",
          "pl",
          "pl",
          "pl",
          "pl",
          "pl",
          "pl",
          "pl",
          "pl",
          "pl",
          "pl",
          "pl",
          "pl",
          "pl",
          "pl",
          "pl",
          "pl",
          "pl",
          "pl",
          "pl",
          "pl",
          "pl",
          "pl",
          "pl",
          "pl",
          "pl",
          "pl",
          "pl",
          "pl",
          "pl",
          "pl",
          "pl",
          "pl",
          "pl",
          "pl",
          "pl",
          "pl",
          "pl",
          "pl",
          "pl",
          "pl",
          "pl",
          "pl",
          "pl",
          "pl",
          "pl",
          "pl",
          "pl",
          "pl",
          "pl",
          "pl",
          "pl",
          "pl",
          "pl",
          "pl",
          "pl",
          "pl",
          "pl",
          "pl",
          "pl",
          "pl",
          "pl",
          "pl",
          "pl",
          "pl",
          "pl",
          "pl",
          "pl",
          "pl",
          "pl",
          "pl",
          "pl",
          "pl",
          "pl",
          "pl",
          "pl",
          "pl",
          "pl",
          "pl",
          "pl",
          "pl",
          "pl",
          "pl",
          "pl",
          "pl",
          "pl",
          "pl",
          "pl",
          "pl",
          "pl",
          "pl",
          "pl",
          "pl",
          "pl",
          "pl",
          "pl",
          "pl",
          "pl",
          "pl",
          "pw",
          "pw",
          "pw",
          "pw",
          "pw",
          "pw",
          "pw",
          "pw",
          "pw",
          "pw",
          "pw",
          "pw",
          "pw",
          "pw",
          "pw",
          "pw",
          "pw",
          "pw",
          "pw",
          "pw",
          "pw",
          "pw",
          "pw",
          "pw",
          "pw",
          "pw",
          "pw",
          "pw",
          "pw",
          "pw",
          "pw",
          "pw",
          "pw",
          "pw",
          "pw",
          "pw",
          "pw",
          "pw",
          "pw",
          "pw",
          "pw",
          "pw",
          "pw",
          "pw",
          "pw",
          "pw",
          "pw",
          "pw",
          "pw",
          "pw",
          "pw",
          "pw",
          "pw",
          "pw",
          "pw",
          "pw",
          "pw",
          "pw",
          "pw",
          "pw",
          "pw",
          "pw",
          "pw",
          "pw",
          "pw",
          "pw",
          "pw",
          "pw",
          "pw",
          "pw",
          "pw",
          "pw",
          "pw",
          "pw",
          "pw",
          "pw",
          "pw",
          "pw",
          "pw",
          "pw",
          "pw",
          "pw",
          "pw",
          "pw",
          "pw",
          "pw",
          "pw",
          "pw",
          "pw",
          "pw",
          "pw",
          "pw",
          "pw",
          "pw",
          "pw",
          "pw",
          "pw",
          "pw",
          "pw",
          "pw",
          "pw",
          "pw",
          "pw",
          "pw",
          "pw",
          "pw",
          "pw",
          "pw",
          "pw",
          "pw",
          "pw",
          "pw",
          "pw",
          "pw",
          "pw",
          "pw",
          "pw",
          "pw",
          "pw",
          "pw",
          "pw",
          "pw",
          "pw",
          "pw",
          "pw",
          "pw",
          "pw",
          "pw",
          "pw",
          "pw",
          "pw",
          "pw",
          "pw",
          "pw",
          "pw",
          "pw",
          "pw",
          "pw",
          "pw",
          "pw",
          "pw",
          "pw",
          "pw",
          "pw",
          "pw"
         ],
         "x0": " ",
         "xaxis": "x",
         "y": {
          "bdata": "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",
          "dtype": "f8"
         },
         "y0": " ",
         "yaxis": "y"
        },
        {
         "alignmentgroup": "True",
         "boxmean": true,
         "hovertemplate": "color=imputed<br>variable=%{x}<br>value=%{y}<extra></extra>",
         "legendgroup": "imputed",
         "marker": {
          "color": "#00cc96"
         },
         "name": "imputed",
         "notched": false,
         "offsetgroup": "imputed",
         "orientation": "v",
         "showlegend": true,
         "type": "box",
         "x": [
          "sl",
          "sl",
          "sl",
          "sl",
          "sl",
          "sl",
          "sl",
          "sl",
          "sl",
          "sl",
          "sl",
          "sl",
          "sl",
          "sl",
          "sl",
          "sl",
          "sl",
          "sl",
          "sl",
          "sl",
          "sl",
          "sl",
          "sl",
          "sl",
          "sl",
          "sl",
          "sl",
          "sl",
          "sl",
          "sl",
          "sl",
          "sl",
          "sl",
          "sl",
          "sl",
          "sl",
          "sl",
          "sl",
          "sl",
          "sl",
          "sl",
          "sl",
          "sl",
          "sl",
          "sl",
          "sl",
          "sl",
          "sl",
          "sl",
          "sl",
          "sl",
          "sl",
          "sl",
          "sl",
          "sl",
          "sl",
          "sl",
          "sl",
          "sl",
          "sl",
          "sl",
          "sl",
          "sl",
          "sl",
          "sl",
          "sl",
          "sl",
          "sl",
          "sl",
          "sl",
          "sl",
          "sl",
          "sl",
          "sl",
          "sl",
          "sl",
          "sl",
          "sl",
          "sl",
          "sl",
          "sl",
          "sl",
          "sl",
          "sl",
          "sl",
          "sl",
          "sl",
          "sl",
          "sl",
          "sl",
          "sl",
          "sl",
          "sl",
          "sl",
          "sl",
          "sl",
          "sl",
          "sl",
          "sl",
          "sl",
          "sl",
          "sl",
          "sl",
          "sl",
          "sl",
          "sl",
          "sl",
          "sl",
          "sl",
          "sl",
          "sl",
          "sl",
          "sl",
          "sl",
          "sl",
          "sl",
          "sl",
          "sl",
          "sl",
          "sl",
          "sl",
          "sl",
          "sl",
          "sl",
          "sl",
          "sl",
          "sl",
          "sl",
          "sl",
          "sl",
          "sl",
          "sl",
          "sl",
          "sl",
          "sl",
          "sl",
          "sl",
          "sl",
          "sl",
          "sl",
          "sl",
          "sl",
          "sl",
          "sl",
          "sl",
          "sl",
          "sl",
          "sl",
          "sl",
          "sl",
          "sw",
          "sw",
          "sw",
          "sw",
          "sw",
          "sw",
          "sw",
          "sw",
          "sw",
          "sw",
          "sw",
          "sw",
          "sw",
          "sw",
          "sw",
          "sw",
          "sw",
          "sw",
          "sw",
          "sw",
          "sw",
          "sw",
          "sw",
          "sw",
          "sw",
          "sw",
          "sw",
          "sw",
          "sw",
          "sw",
          "sw",
          "sw",
          "sw",
          "sw",
          "sw",
          "sw",
          "sw",
          "sw",
          "sw",
          "sw",
          "sw",
          "sw",
          "sw",
          "sw",
          "sw",
          "sw",
          "sw",
          "sw",
          "sw",
          "sw",
          "sw",
          "sw",
          "sw",
          "sw",
          "sw",
          "sw",
          "sw",
          "sw",
          "sw",
          "sw",
          "sw",
          "sw",
          "sw",
          "sw",
          "sw",
          "sw",
          "sw",
          "sw",
          "sw",
          "sw",
          "sw",
          "sw",
          "sw",
          "sw",
          "sw",
          "sw",
          "sw",
          "sw",
          "sw",
          "sw",
          "sw",
          "sw",
          "sw",
          "sw",
          "sw",
          "sw",
          "sw",
          "sw",
          "sw",
          "sw",
          "sw",
          "sw",
          "sw",
          "sw",
          "sw",
          "sw",
          "sw",
          "sw",
          "sw",
          "sw",
          "sw",
          "sw",
          "sw",
          "sw",
          "sw",
          "sw",
          "sw",
          "sw",
          "sw",
          "sw",
          "sw",
          "sw",
          "sw",
          "sw",
          "sw",
          "sw",
          "sw",
          "sw",
          "sw",
          "sw",
          "sw",
          "sw",
          "sw",
          "sw",
          "sw",
          "sw",
          "sw",
          "sw",
          "sw",
          "sw",
          "sw",
          "sw",
          "sw",
          "sw",
          "sw",
          "sw",
          "sw",
          "sw",
          "sw",
          "sw",
          "sw",
          "sw",
          "sw",
          "sw",
          "sw",
          "sw",
          "sw",
          "sw",
          "sw",
          "sw",
          "pl",
          "pl",
          "pl",
          "pl",
          "pl",
          "pl",
          "pl",
          "pl",
          "pl",
          "pl",
          "pl",
          "pl",
          "pl",
          "pl",
          "pl",
          "pl",
          "pl",
          "pl",
          "pl",
          "pl",
          "pl",
          "pl",
          "pl",
          "pl",
          "pl",
          "pl",
          "pl",
          "pl",
          "pl",
          "pl",
          "pl",
          "pl",
          "pl",
          "pl",
          "pl",
          "pl",
          "pl",
          "pl",
          "pl",
          "pl",
          "pl",
          "pl",
          "pl",
          "pl",
          "pl",
          "pl",
          "pl",
          "pl",
          "pl",
          "pl",
          "pl",
          "pl",
          "pl",
          "pl",
          "pl",
          "pl",
          "pl",
          "pl",
          "pl",
          "pl",
          "pl",
          "pl",
          "pl",
          "pl",
          "pl",
          "pl",
          "pl",
          "pl",
          "pl",
          "pl",
          "pl",
          "pl",
          "pl",
          "pl",
          "pl",
          "pl",
          "pl",
          "pl",
          "pl",
          "pl",
          "pl",
          "pl",
          "pl",
          "pl",
          "pl",
          "pl",
          "pl",
          "pl",
          "pl",
          "pl",
          "pl",
          "pl",
          "pl",
          "pl",
          "pl",
          "pl",
          "pl",
          "pl",
          "pl",
          "pl",
          "pl",
          "pl",
          "pl",
          "pl",
          "pl",
          "pl",
          "pl",
          "pl",
          "pl",
          "pl",
          "pl",
          "pl",
          "pl",
          "pl",
          "pl",
          "pl",
          "pl",
          "pl",
          "pl",
          "pl",
          "pl",
          "pl",
          "pl",
          "pl",
          "pl",
          "pl",
          "pl",
          "pl",
          "pl",
          "pl",
          "pl",
          "pl",
          "pl",
          "pl",
          "pl",
          "pl",
          "pl",
          "pl",
          "pl",
          "pl",
          "pl",
          "pl",
          "pl",
          "pl",
          "pl",
          "pl",
          "pl",
          "pl",
          "pl",
          "pl",
          "pw",
          "pw",
          "pw",
          "pw",
          "pw",
          "pw",
          "pw",
          "pw",
          "pw",
          "pw",
          "pw",
          "pw",
          "pw",
          "pw",
          "pw",
          "pw",
          "pw",
          "pw",
          "pw",
          "pw",
          "pw",
          "pw",
          "pw",
          "pw",
          "pw",
          "pw",
          "pw",
          "pw",
          "pw",
          "pw",
          "pw",
          "pw",
          "pw",
          "pw",
          "pw",
          "pw",
          "pw",
          "pw",
          "pw",
          "pw",
          "pw",
          "pw",
          "pw",
          "pw",
          "pw",
          "pw",
          "pw",
          "pw",
          "pw",
          "pw",
          "pw",
          "pw",
          "pw",
          "pw",
          "pw",
          "pw",
          "pw",
          "pw",
          "pw",
          "pw",
          "pw",
          "pw",
          "pw",
          "pw",
          "pw",
          "pw",
          "pw",
          "pw",
          "pw",
          "pw",
          "pw",
          "pw",
          "pw",
          "pw",
          "pw",
          "pw",
          "pw",
          "pw",
          "pw",
          "pw",
          "pw",
          "pw",
          "pw",
          "pw",
          "pw",
          "pw",
          "pw",
          "pw",
          "pw",
          "pw",
          "pw",
          "pw",
          "pw",
          "pw",
          "pw",
          "pw",
          "pw",
          "pw",
          "pw",
          "pw",
          "pw",
          "pw",
          "pw",
          "pw",
          "pw",
          "pw",
          "pw",
          "pw",
          "pw",
          "pw",
          "pw",
          "pw",
          "pw",
          "pw",
          "pw",
          "pw",
          "pw",
          "pw",
          "pw",
          "pw",
          "pw",
          "pw",
          "pw",
          "pw",
          "pw",
          "pw",
          "pw",
          "pw",
          "pw",
          "pw",
          "pw",
          "pw",
          "pw",
          "pw",
          "pw",
          "pw",
          "pw",
          "pw",
          "pw",
          "pw",
          "pw",
          "pw",
          "pw",
          "pw",
          "pw",
          "pw",
          "pw",
          "pw",
          "pw",
          "pw"
         ],
         "x0": " ",
         "xaxis": "x",
         "y": {
          "bdata": "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",
          "dtype": "f8"
         },
         "y0": " ",
         "yaxis": "y"
        }
       ],
       "layout": {
        "boxmode": "group",
        "legend": {
         "title": {
          "text": "color"
         },
         "tracegroupgap": 0
        },
        "template": {
         "data": {
          "bar": [
           {
            "error_x": {
             "color": "#2a3f5f"
            },
            "error_y": {
             "color": "#2a3f5f"
            },
            "marker": {
             "line": {
              "color": "#E5ECF6",
              "width": 0.5
             },
             "pattern": {
              "fillmode": "overlay",
              "size": 10,
              "solidity": 0.2
             }
            },
            "type": "bar"
           }
          ],
          "barpolar": [
           {
            "marker": {
             "line": {
              "color": "#E5ECF6",
              "width": 0.5
             },
             "pattern": {
              "fillmode": "overlay",
              "size": 10,
              "solidity": 0.2
             }
            },
            "type": "barpolar"
           }
          ],
          "carpet": [
           {
            "aaxis": {
             "endlinecolor": "#2a3f5f",
             "gridcolor": "white",
             "linecolor": "white",
             "minorgridcolor": "white",
             "startlinecolor": "#2a3f5f"
            },
            "baxis": {
             "endlinecolor": "#2a3f5f",
             "gridcolor": "white",
             "linecolor": "white",
             "minorgridcolor": "white",
             "startlinecolor": "#2a3f5f"
            },
            "type": "carpet"
           }
          ],
          "choropleth": [
           {
            "colorbar": {
             "outlinewidth": 0,
             "ticks": ""
            },
            "type": "choropleth"
           }
          ],
          "contour": [
           {
            "colorbar": {
             "outlinewidth": 0,
             "ticks": ""
            },
            "colorscale": [
             [
              0,
              "#0d0887"
             ],
             [
              0.1111111111111111,
              "#46039f"
             ],
             [
              0.2222222222222222,
              "#7201a8"
             ],
             [
              0.3333333333333333,
              "#9c179e"
             ],
             [
              0.4444444444444444,
              "#bd3786"
             ],
             [
              0.5555555555555556,
              "#d8576b"
             ],
             [
              0.6666666666666666,
              "#ed7953"
             ],
             [
              0.7777777777777778,
              "#fb9f3a"
             ],
             [
              0.8888888888888888,
              "#fdca26"
             ],
             [
              1,
              "#f0f921"
             ]
            ],
            "type": "contour"
           }
          ],
          "contourcarpet": [
           {
            "colorbar": {
             "outlinewidth": 0,
             "ticks": ""
            },
            "type": "contourcarpet"
           }
          ],
          "heatmap": [
           {
            "colorbar": {
             "outlinewidth": 0,
             "ticks": ""
            },
            "colorscale": [
             [
              0,
              "#0d0887"
             ],
             [
              0.1111111111111111,
              "#46039f"
             ],
             [
              0.2222222222222222,
              "#7201a8"
             ],
             [
              0.3333333333333333,
              "#9c179e"
             ],
             [
              0.4444444444444444,
              "#bd3786"
             ],
             [
              0.5555555555555556,
              "#d8576b"
             ],
             [
              0.6666666666666666,
              "#ed7953"
             ],
             [
              0.7777777777777778,
              "#fb9f3a"
             ],
             [
              0.8888888888888888,
              "#fdca26"
             ],
             [
              1,
              "#f0f921"
             ]
            ],
            "type": "heatmap"
           }
          ],
          "histogram": [
           {
            "marker": {
             "pattern": {
              "fillmode": "overlay",
              "size": 10,
              "solidity": 0.2
             }
            },
            "type": "histogram"
           }
          ],
          "histogram2d": [
           {
            "colorbar": {
             "outlinewidth": 0,
             "ticks": ""
            },
            "colorscale": [
             [
              0,
              "#0d0887"
             ],
             [
              0.1111111111111111,
              "#46039f"
             ],
             [
              0.2222222222222222,
              "#7201a8"
             ],
             [
              0.3333333333333333,
              "#9c179e"
             ],
             [
              0.4444444444444444,
              "#bd3786"
             ],
             [
              0.5555555555555556,
              "#d8576b"
             ],
             [
              0.6666666666666666,
              "#ed7953"
             ],
             [
              0.7777777777777778,
              "#fb9f3a"
             ],
             [
              0.8888888888888888,
              "#fdca26"
             ],
             [
              1,
              "#f0f921"
             ]
            ],
            "type": "histogram2d"
           }
          ],
          "histogram2dcontour": [
           {
            "colorbar": {
             "outlinewidth": 0,
             "ticks": ""
            },
            "colorscale": [
             [
              0,
              "#0d0887"
             ],
             [
              0.1111111111111111,
              "#46039f"
             ],
             [
              0.2222222222222222,
              "#7201a8"
             ],
             [
              0.3333333333333333,
              "#9c179e"
             ],
             [
              0.4444444444444444,
              "#bd3786"
             ],
             [
              0.5555555555555556,
              "#d8576b"
             ],
             [
              0.6666666666666666,
              "#ed7953"
             ],
             [
              0.7777777777777778,
              "#fb9f3a"
             ],
             [
              0.8888888888888888,
              "#fdca26"
             ],
             [
              1,
              "#f0f921"
             ]
            ],
            "type": "histogram2dcontour"
           }
          ],
          "mesh3d": [
           {
            "colorbar": {
             "outlinewidth": 0,
             "ticks": ""
            },
            "type": "mesh3d"
           }
          ],
          "parcoords": [
           {
            "line": {
             "colorbar": {
              "outlinewidth": 0,
              "ticks": ""
             }
            },
            "type": "parcoords"
           }
          ],
          "pie": [
           {
            "automargin": true,
            "type": "pie"
           }
          ],
          "scatter": [
           {
            "fillpattern": {
             "fillmode": "overlay",
             "size": 10,
             "solidity": 0.2
            },
            "type": "scatter"
           }
          ],
          "scatter3d": [
           {
            "line": {
             "colorbar": {
              "outlinewidth": 0,
              "ticks": ""
             }
            },
            "marker": {
             "colorbar": {
              "outlinewidth": 0,
              "ticks": ""
             }
            },
            "type": "scatter3d"
           }
          ],
          "scattercarpet": [
           {
            "marker": {
             "colorbar": {
              "outlinewidth": 0,
              "ticks": ""
             }
            },
            "type": "scattercarpet"
           }
          ],
          "scattergeo": [
           {
            "marker": {
             "colorbar": {
              "outlinewidth": 0,
              "ticks": ""
             }
            },
            "type": "scattergeo"
           }
          ],
          "scattergl": [
           {
            "marker": {
             "colorbar": {
              "outlinewidth": 0,
              "ticks": ""
             }
            },
            "type": "scattergl"
           }
          ],
          "scattermap": [
           {
            "marker": {
             "colorbar": {
              "outlinewidth": 0,
              "ticks": ""
             }
            },
            "type": "scattermap"
           }
          ],
          "scattermapbox": [
           {
            "marker": {
             "colorbar": {
              "outlinewidth": 0,
              "ticks": ""
             }
            },
            "type": "scattermapbox"
           }
          ],
          "scatterpolar": [
           {
            "marker": {
             "colorbar": {
              "outlinewidth": 0,
              "ticks": ""
             }
            },
            "type": "scatterpolar"
           }
          ],
          "scatterpolargl": [
           {
            "marker": {
             "colorbar": {
              "outlinewidth": 0,
              "ticks": ""
             }
            },
            "type": "scatterpolargl"
           }
          ],
          "scatterternary": [
           {
            "marker": {
             "colorbar": {
              "outlinewidth": 0,
              "ticks": ""
             }
            },
            "type": "scatterternary"
           }
          ],
          "surface": [
           {
            "colorbar": {
             "outlinewidth": 0,
             "ticks": ""
            },
            "colorscale": [
             [
              0,
              "#0d0887"
             ],
             [
              0.1111111111111111,
              "#46039f"
             ],
             [
              0.2222222222222222,
              "#7201a8"
             ],
             [
              0.3333333333333333,
              "#9c179e"
             ],
             [
              0.4444444444444444,
              "#bd3786"
             ],
             [
              0.5555555555555556,
              "#d8576b"
             ],
             [
              0.6666666666666666,
              "#ed7953"
             ],
             [
              0.7777777777777778,
              "#fb9f3a"
             ],
             [
              0.8888888888888888,
              "#fdca26"
             ],
             [
              1,
              "#f0f921"
             ]
            ],
            "type": "surface"
           }
          ],
          "table": [
           {
            "cells": {
             "fill": {
              "color": "#EBF0F8"
             },
             "line": {
              "color": "white"
             }
            },
            "header": {
             "fill": {
              "color": "#C8D4E3"
             },
             "line": {
              "color": "white"
             }
            },
            "type": "table"
           }
          ]
         },
         "layout": {
          "annotationdefaults": {
           "arrowcolor": "#2a3f5f",
           "arrowhead": 0,
           "arrowwidth": 1
          },
          "autotypenumbers": "strict",
          "coloraxis": {
           "colorbar": {
            "outlinewidth": 0,
            "ticks": ""
           }
          },
          "colorscale": {
           "diverging": [
            [
             0,
             "#8e0152"
            ],
            [
             0.1,
             "#c51b7d"
            ],
            [
             0.2,
             "#de77ae"
            ],
            [
             0.3,
             "#f1b6da"
            ],
            [
             0.4,
             "#fde0ef"
            ],
            [
             0.5,
             "#f7f7f7"
            ],
            [
             0.6,
             "#e6f5d0"
            ],
            [
             0.7,
             "#b8e186"
            ],
            [
             0.8,
             "#7fbc41"
            ],
            [
             0.9,
             "#4d9221"
            ],
            [
             1,
             "#276419"
            ]
           ],
           "sequential": [
            [
             0,
             "#0d0887"
            ],
            [
             0.1111111111111111,
             "#46039f"
            ],
            [
             0.2222222222222222,
             "#7201a8"
            ],
            [
             0.3333333333333333,
             "#9c179e"
            ],
            [
             0.4444444444444444,
             "#bd3786"
            ],
            [
             0.5555555555555556,
             "#d8576b"
            ],
            [
             0.6666666666666666,
             "#ed7953"
            ],
            [
             0.7777777777777778,
             "#fb9f3a"
            ],
            [
             0.8888888888888888,
             "#fdca26"
            ],
            [
             1,
             "#f0f921"
            ]
           ],
           "sequentialminus": [
            [
             0,
             "#0d0887"
            ],
            [
             0.1111111111111111,
             "#46039f"
            ],
            [
             0.2222222222222222,
             "#7201a8"
            ],
            [
             0.3333333333333333,
             "#9c179e"
            ],
            [
             0.4444444444444444,
             "#bd3786"
            ],
            [
             0.5555555555555556,
             "#d8576b"
            ],
            [
             0.6666666666666666,
             "#ed7953"
            ],
            [
             0.7777777777777778,
             "#fb9f3a"
            ],
            [
             0.8888888888888888,
             "#fdca26"
            ],
            [
             1,
             "#f0f921"
            ]
           ]
          },
          "colorway": [
           "#636efa",
           "#EF553B",
           "#00cc96",
           "#ab63fa",
           "#FFA15A",
           "#19d3f3",
           "#FF6692",
           "#B6E880",
           "#FF97FF",
           "#FECB52"
          ],
          "font": {
           "color": "#2a3f5f"
          },
          "geo": {
           "bgcolor": "white",
           "lakecolor": "white",
           "landcolor": "#E5ECF6",
           "showlakes": true,
           "showland": true,
           "subunitcolor": "white"
          },
          "hoverlabel": {
           "align": "left"
          },
          "hovermode": "closest",
          "mapbox": {
           "style": "light"
          },
          "paper_bgcolor": "white",
          "plot_bgcolor": "#E5ECF6",
          "polar": {
           "angularaxis": {
            "gridcolor": "white",
            "linecolor": "white",
            "ticks": ""
           },
           "bgcolor": "#E5ECF6",
           "radialaxis": {
            "gridcolor": "white",
            "linecolor": "white",
            "ticks": ""
           }
          },
          "scene": {
           "xaxis": {
            "backgroundcolor": "#E5ECF6",
            "gridcolor": "white",
            "gridwidth": 2,
            "linecolor": "white",
            "showbackground": true,
            "ticks": "",
            "zerolinecolor": "white"
           },
           "yaxis": {
            "backgroundcolor": "#E5ECF6",
            "gridcolor": "white",
            "gridwidth": 2,
            "linecolor": "white",
            "showbackground": true,
            "ticks": "",
            "zerolinecolor": "white"
           },
           "zaxis": {
            "backgroundcolor": "#E5ECF6",
            "gridcolor": "white",
            "gridwidth": 2,
            "linecolor": "white",
            "showbackground": true,
            "ticks": "",
            "zerolinecolor": "white"
           }
          },
          "shapedefaults": {
           "line": {
            "color": "#2a3f5f"
           }
          },
          "ternary": {
           "aaxis": {
            "gridcolor": "white",
            "linecolor": "white",
            "ticks": ""
           },
           "baxis": {
            "gridcolor": "white",
            "linecolor": "white",
            "ticks": ""
           },
           "bgcolor": "#E5ECF6",
           "caxis": {
            "gridcolor": "white",
            "linecolor": "white",
            "ticks": ""
           }
          },
          "title": {
           "x": 0.05
          },
          "xaxis": {
           "automargin": true,
           "gridcolor": "white",
           "linecolor": "white",
           "ticks": "",
           "title": {
            "standoff": 15
           },
           "zerolinecolor": "white",
           "zerolinewidth": 2
          },
          "yaxis": {
           "automargin": true,
           "gridcolor": "white",
           "linecolor": "white",
           "ticks": "",
           "title": {
            "standoff": 15
           },
           "zerolinecolor": "white",
           "zerolinewidth": 2
          }
         }
        },
        "title": {
         "text": "Comparison of Iris Features' Distribution Across Dataset Versions "
        },
        "xaxis": {
         "anchor": "y",
         "domain": [
          0,
          1
         ],
         "title": {
          "text": "variable"
         }
        },
        "yaxis": {
         "anchor": "x",
         "domain": [
          0,
          1
         ],
         "title": {
          "text": "value"
         }
        }
       }
      }
     },
     "metadata": {},
     "output_type": "display_data"
    }
   ],
   "source": [
    "fig = px.box(df_combined[['sl', 'sw', 'pl', 'pw']],\n",
    "            color=df_combined['source'],\n",
    "            title= \"Comparison of Iris Features' Distribution Across Dataset Versions \")\n",
    "fig.update_traces(boxmean=True)\n",
    "fig.show()"
   ]
  },
  {
   "cell_type": "markdown",
   "id": "76191fb5",
   "metadata": {},
   "source": [
    "## Statistics & Visualization for Class Association\n",
    "**Summary Statistic 2**\n",
    "\n",
    "Showing the summary statistics of the class associations from different missing-value-handling methods."
   ]
  },
  {
   "cell_type": "code",
   "execution_count": 248,
   "id": "e4e79e84",
   "metadata": {},
   "outputs": [
    {
     "name": "stdout",
     "output_type": "stream",
     "text": [
      "Summary stats of the association class - Initial Dataset\n",
      "\n",
      "count                 149\n",
      "unique                  3\n",
      "top       Iris-versicolor\n",
      "freq                   50\n",
      "Name: class, dtype: object\n"
     ]
    }
   ],
   "source": [
    "print(f\"Summary stats of the association class - Initial Dataset\\n\")\n",
    "print(df['class'].describe(include=all))"
   ]
  },
  {
   "cell_type": "code",
   "execution_count": 249,
   "id": "1e5af52a",
   "metadata": {},
   "outputs": [
    {
     "name": "stdout",
     "output_type": "stream",
     "text": [
      "Summary stats of the association class - Initial Dataset\n",
      "\n",
      "count                150\n",
      "unique                 4\n",
      "top       Iris-virginica\n",
      "freq                  50\n",
      "Name: class, dtype: object\n"
     ]
    }
   ],
   "source": [
    "print(f\"Summary stats of the association class - Initial Dataset\\n\")\n",
    "print(df_imputed['class'].describe(include=all))"
   ]
  },
  {
   "cell_type": "code",
   "execution_count": 250,
   "id": "9779e6d3",
   "metadata": {},
   "outputs": [
    {
     "name": "stdout",
     "output_type": "stream",
     "text": [
      "Summary stats of the association class - Initial Dataset\n",
      "\n",
      "count                 145\n",
      "unique                  3\n",
      "top       Iris-versicolor\n",
      "freq                   50\n",
      "Name: class, dtype: object\n"
     ]
    }
   ],
   "source": [
    "print(f\"Summary stats of the association class - Initial Dataset\\n\")\n",
    "print(df_no_nan['class'].describe(include=all))"
   ]
  },
  {
   "cell_type": "markdown",
   "id": "c3b7de3b",
   "metadata": {},
   "source": [
    "**Visualization 2**\n",
    "\n",
    "Showing the distribution of class within different resulting dataframes. `NaN` value of the first the original data set is replaced with `'NaN'` (string datatype) for the sake of visualization and showing my points."
   ]
  },
  {
   "cell_type": "code",
   "execution_count": 252,
   "id": "cfd6b154",
   "metadata": {},
   "outputs": [
    {
     "data": {
      "application/vnd.plotly.v1+json": {
       "config": {
        "plotlyServerURL": "https://plot.ly"
       },
       "data": [
        {
         "alignmentgroup": "True",
         "hovertemplate": "class=NaN<br>source=%{x}<br>count=%{text}<extra></extra>",
         "legendgroup": "NaN",
         "marker": {
          "color": "#636efa",
          "pattern": {
           "shape": ""
          }
         },
         "name": "NaN",
         "offsetgroup": "NaN",
         "orientation": "v",
         "showlegend": true,
         "text": {
          "bdata": "AAAAAAAA8D8=",
          "dtype": "f8"
         },
         "textposition": "auto",
         "type": "bar",
         "x": [
          "original"
         ],
         "xaxis": "x",
         "y": {
          "bdata": "AQ==",
          "dtype": "i1"
         },
         "yaxis": "y"
        },
        {
         "alignmentgroup": "True",
         "hovertemplate": "class=Iris-virginica<br>source=%{x}<br>count=%{text}<extra></extra>",
         "legendgroup": "Iris-virginica",
         "marker": {
          "color": "#EF553B",
          "pattern": {
           "shape": ""
          }
         },
         "name": "Iris-virginica",
         "offsetgroup": "Iris-virginica",
         "orientation": "v",
         "showlegend": true,
         "text": {
          "bdata": "AAAAAAAASUAAAAAAAABJQAAAAAAAAElA",
          "dtype": "f8"
         },
         "textposition": "auto",
         "type": "bar",
         "x": [
          "original",
          "no_nan",
          "imputed"
         ],
         "xaxis": "x",
         "y": {
          "bdata": "MjIy",
          "dtype": "i1"
         },
         "yaxis": "y"
        },
        {
         "alignmentgroup": "True",
         "hovertemplate": "class=Iris-versicolor<br>source=%{x}<br>count=%{text}<extra></extra>",
         "legendgroup": "Iris-versicolor",
         "marker": {
          "color": "#00cc96",
          "pattern": {
           "shape": ""
          }
         },
         "name": "Iris-versicolor",
         "offsetgroup": "Iris-versicolor",
         "orientation": "v",
         "showlegend": true,
         "text": {
          "bdata": "AAAAAAAASUAAAAAAAABJQAAAAAAAAElA",
          "dtype": "f8"
         },
         "textposition": "auto",
         "type": "bar",
         "x": [
          "original",
          "no_nan",
          "imputed"
         ],
         "xaxis": "x",
         "y": {
          "bdata": "MjIy",
          "dtype": "i1"
         },
         "yaxis": "y"
        },
        {
         "alignmentgroup": "True",
         "hovertemplate": "class=Iris-setosa<br>source=%{x}<br>count=%{text}<extra></extra>",
         "legendgroup": "Iris-setosa",
         "marker": {
          "color": "#ab63fa",
          "pattern": {
           "shape": ""
          }
         },
         "name": "Iris-setosa",
         "offsetgroup": "Iris-setosa",
         "orientation": "v",
         "showlegend": true,
         "text": {
          "bdata": "AAAAAACASEAAAAAAAIBGQAAAAAAAgEhA",
          "dtype": "f8"
         },
         "textposition": "auto",
         "type": "bar",
         "x": [
          "original",
          "no_nan",
          "imputed"
         ],
         "xaxis": "x",
         "y": {
          "bdata": "MS0x",
          "dtype": "i1"
         },
         "yaxis": "y"
        },
        {
         "alignmentgroup": "True",
         "hovertemplate": "class=Unknown<br>source=%{x}<br>count=%{text}<extra></extra>",
         "legendgroup": "Unknown",
         "marker": {
          "color": "#FFA15A",
          "pattern": {
           "shape": ""
          }
         },
         "name": "Unknown",
         "offsetgroup": "Unknown",
         "orientation": "v",
         "showlegend": true,
         "text": {
          "bdata": "AAAAAAAA8D8=",
          "dtype": "f8"
         },
         "textposition": "auto",
         "type": "bar",
         "x": [
          "imputed"
         ],
         "xaxis": "x",
         "y": {
          "bdata": "AQ==",
          "dtype": "i1"
         },
         "yaxis": "y"
        }
       ],
       "layout": {
        "barmode": "group",
        "legend": {
         "title": {
          "text": "class"
         },
         "tracegroupgap": 0
        },
        "template": {
         "data": {
          "bar": [
           {
            "error_x": {
             "color": "#2a3f5f"
            },
            "error_y": {
             "color": "#2a3f5f"
            },
            "marker": {
             "line": {
              "color": "#E5ECF6",
              "width": 0.5
             },
             "pattern": {
              "fillmode": "overlay",
              "size": 10,
              "solidity": 0.2
             }
            },
            "type": "bar"
           }
          ],
          "barpolar": [
           {
            "marker": {
             "line": {
              "color": "#E5ECF6",
              "width": 0.5
             },
             "pattern": {
              "fillmode": "overlay",
              "size": 10,
              "solidity": 0.2
             }
            },
            "type": "barpolar"
           }
          ],
          "carpet": [
           {
            "aaxis": {
             "endlinecolor": "#2a3f5f",
             "gridcolor": "white",
             "linecolor": "white",
             "minorgridcolor": "white",
             "startlinecolor": "#2a3f5f"
            },
            "baxis": {
             "endlinecolor": "#2a3f5f",
             "gridcolor": "white",
             "linecolor": "white",
             "minorgridcolor": "white",
             "startlinecolor": "#2a3f5f"
            },
            "type": "carpet"
           }
          ],
          "choropleth": [
           {
            "colorbar": {
             "outlinewidth": 0,
             "ticks": ""
            },
            "type": "choropleth"
           }
          ],
          "contour": [
           {
            "colorbar": {
             "outlinewidth": 0,
             "ticks": ""
            },
            "colorscale": [
             [
              0,
              "#0d0887"
             ],
             [
              0.1111111111111111,
              "#46039f"
             ],
             [
              0.2222222222222222,
              "#7201a8"
             ],
             [
              0.3333333333333333,
              "#9c179e"
             ],
             [
              0.4444444444444444,
              "#bd3786"
             ],
             [
              0.5555555555555556,
              "#d8576b"
             ],
             [
              0.6666666666666666,
              "#ed7953"
             ],
             [
              0.7777777777777778,
              "#fb9f3a"
             ],
             [
              0.8888888888888888,
              "#fdca26"
             ],
             [
              1,
              "#f0f921"
             ]
            ],
            "type": "contour"
           }
          ],
          "contourcarpet": [
           {
            "colorbar": {
             "outlinewidth": 0,
             "ticks": ""
            },
            "type": "contourcarpet"
           }
          ],
          "heatmap": [
           {
            "colorbar": {
             "outlinewidth": 0,
             "ticks": ""
            },
            "colorscale": [
             [
              0,
              "#0d0887"
             ],
             [
              0.1111111111111111,
              "#46039f"
             ],
             [
              0.2222222222222222,
              "#7201a8"
             ],
             [
              0.3333333333333333,
              "#9c179e"
             ],
             [
              0.4444444444444444,
              "#bd3786"
             ],
             [
              0.5555555555555556,
              "#d8576b"
             ],
             [
              0.6666666666666666,
              "#ed7953"
             ],
             [
              0.7777777777777778,
              "#fb9f3a"
             ],
             [
              0.8888888888888888,
              "#fdca26"
             ],
             [
              1,
              "#f0f921"
             ]
            ],
            "type": "heatmap"
           }
          ],
          "histogram": [
           {
            "marker": {
             "pattern": {
              "fillmode": "overlay",
              "size": 10,
              "solidity": 0.2
             }
            },
            "type": "histogram"
           }
          ],
          "histogram2d": [
           {
            "colorbar": {
             "outlinewidth": 0,
             "ticks": ""
            },
            "colorscale": [
             [
              0,
              "#0d0887"
             ],
             [
              0.1111111111111111,
              "#46039f"
             ],
             [
              0.2222222222222222,
              "#7201a8"
             ],
             [
              0.3333333333333333,
              "#9c179e"
             ],
             [
              0.4444444444444444,
              "#bd3786"
             ],
             [
              0.5555555555555556,
              "#d8576b"
             ],
             [
              0.6666666666666666,
              "#ed7953"
             ],
             [
              0.7777777777777778,
              "#fb9f3a"
             ],
             [
              0.8888888888888888,
              "#fdca26"
             ],
             [
              1,
              "#f0f921"
             ]
            ],
            "type": "histogram2d"
           }
          ],
          "histogram2dcontour": [
           {
            "colorbar": {
             "outlinewidth": 0,
             "ticks": ""
            },
            "colorscale": [
             [
              0,
              "#0d0887"
             ],
             [
              0.1111111111111111,
              "#46039f"
             ],
             [
              0.2222222222222222,
              "#7201a8"
             ],
             [
              0.3333333333333333,
              "#9c179e"
             ],
             [
              0.4444444444444444,
              "#bd3786"
             ],
             [
              0.5555555555555556,
              "#d8576b"
             ],
             [
              0.6666666666666666,
              "#ed7953"
             ],
             [
              0.7777777777777778,
              "#fb9f3a"
             ],
             [
              0.8888888888888888,
              "#fdca26"
             ],
             [
              1,
              "#f0f921"
             ]
            ],
            "type": "histogram2dcontour"
           }
          ],
          "mesh3d": [
           {
            "colorbar": {
             "outlinewidth": 0,
             "ticks": ""
            },
            "type": "mesh3d"
           }
          ],
          "parcoords": [
           {
            "line": {
             "colorbar": {
              "outlinewidth": 0,
              "ticks": ""
             }
            },
            "type": "parcoords"
           }
          ],
          "pie": [
           {
            "automargin": true,
            "type": "pie"
           }
          ],
          "scatter": [
           {
            "fillpattern": {
             "fillmode": "overlay",
             "size": 10,
             "solidity": 0.2
            },
            "type": "scatter"
           }
          ],
          "scatter3d": [
           {
            "line": {
             "colorbar": {
              "outlinewidth": 0,
              "ticks": ""
             }
            },
            "marker": {
             "colorbar": {
              "outlinewidth": 0,
              "ticks": ""
             }
            },
            "type": "scatter3d"
           }
          ],
          "scattercarpet": [
           {
            "marker": {
             "colorbar": {
              "outlinewidth": 0,
              "ticks": ""
             }
            },
            "type": "scattercarpet"
           }
          ],
          "scattergeo": [
           {
            "marker": {
             "colorbar": {
              "outlinewidth": 0,
              "ticks": ""
             }
            },
            "type": "scattergeo"
           }
          ],
          "scattergl": [
           {
            "marker": {
             "colorbar": {
              "outlinewidth": 0,
              "ticks": ""
             }
            },
            "type": "scattergl"
           }
          ],
          "scattermap": [
           {
            "marker": {
             "colorbar": {
              "outlinewidth": 0,
              "ticks": ""
             }
            },
            "type": "scattermap"
           }
          ],
          "scattermapbox": [
           {
            "marker": {
             "colorbar": {
              "outlinewidth": 0,
              "ticks": ""
             }
            },
            "type": "scattermapbox"
           }
          ],
          "scatterpolar": [
           {
            "marker": {
             "colorbar": {
              "outlinewidth": 0,
              "ticks": ""
             }
            },
            "type": "scatterpolar"
           }
          ],
          "scatterpolargl": [
           {
            "marker": {
             "colorbar": {
              "outlinewidth": 0,
              "ticks": ""
             }
            },
            "type": "scatterpolargl"
           }
          ],
          "scatterternary": [
           {
            "marker": {
             "colorbar": {
              "outlinewidth": 0,
              "ticks": ""
             }
            },
            "type": "scatterternary"
           }
          ],
          "surface": [
           {
            "colorbar": {
             "outlinewidth": 0,
             "ticks": ""
            },
            "colorscale": [
             [
              0,
              "#0d0887"
             ],
             [
              0.1111111111111111,
              "#46039f"
             ],
             [
              0.2222222222222222,
              "#7201a8"
             ],
             [
              0.3333333333333333,
              "#9c179e"
             ],
             [
              0.4444444444444444,
              "#bd3786"
             ],
             [
              0.5555555555555556,
              "#d8576b"
             ],
             [
              0.6666666666666666,
              "#ed7953"
             ],
             [
              0.7777777777777778,
              "#fb9f3a"
             ],
             [
              0.8888888888888888,
              "#fdca26"
             ],
             [
              1,
              "#f0f921"
             ]
            ],
            "type": "surface"
           }
          ],
          "table": [
           {
            "cells": {
             "fill": {
              "color": "#EBF0F8"
             },
             "line": {
              "color": "white"
             }
            },
            "header": {
             "fill": {
              "color": "#C8D4E3"
             },
             "line": {
              "color": "white"
             }
            },
            "type": "table"
           }
          ]
         },
         "layout": {
          "annotationdefaults": {
           "arrowcolor": "#2a3f5f",
           "arrowhead": 0,
           "arrowwidth": 1
          },
          "autotypenumbers": "strict",
          "coloraxis": {
           "colorbar": {
            "outlinewidth": 0,
            "ticks": ""
           }
          },
          "colorscale": {
           "diverging": [
            [
             0,
             "#8e0152"
            ],
            [
             0.1,
             "#c51b7d"
            ],
            [
             0.2,
             "#de77ae"
            ],
            [
             0.3,
             "#f1b6da"
            ],
            [
             0.4,
             "#fde0ef"
            ],
            [
             0.5,
             "#f7f7f7"
            ],
            [
             0.6,
             "#e6f5d0"
            ],
            [
             0.7,
             "#b8e186"
            ],
            [
             0.8,
             "#7fbc41"
            ],
            [
             0.9,
             "#4d9221"
            ],
            [
             1,
             "#276419"
            ]
           ],
           "sequential": [
            [
             0,
             "#0d0887"
            ],
            [
             0.1111111111111111,
             "#46039f"
            ],
            [
             0.2222222222222222,
             "#7201a8"
            ],
            [
             0.3333333333333333,
             "#9c179e"
            ],
            [
             0.4444444444444444,
             "#bd3786"
            ],
            [
             0.5555555555555556,
             "#d8576b"
            ],
            [
             0.6666666666666666,
             "#ed7953"
            ],
            [
             0.7777777777777778,
             "#fb9f3a"
            ],
            [
             0.8888888888888888,
             "#fdca26"
            ],
            [
             1,
             "#f0f921"
            ]
           ],
           "sequentialminus": [
            [
             0,
             "#0d0887"
            ],
            [
             0.1111111111111111,
             "#46039f"
            ],
            [
             0.2222222222222222,
             "#7201a8"
            ],
            [
             0.3333333333333333,
             "#9c179e"
            ],
            [
             0.4444444444444444,
             "#bd3786"
            ],
            [
             0.5555555555555556,
             "#d8576b"
            ],
            [
             0.6666666666666666,
             "#ed7953"
            ],
            [
             0.7777777777777778,
             "#fb9f3a"
            ],
            [
             0.8888888888888888,
             "#fdca26"
            ],
            [
             1,
             "#f0f921"
            ]
           ]
          },
          "colorway": [
           "#636efa",
           "#EF553B",
           "#00cc96",
           "#ab63fa",
           "#FFA15A",
           "#19d3f3",
           "#FF6692",
           "#B6E880",
           "#FF97FF",
           "#FECB52"
          ],
          "font": {
           "color": "#2a3f5f"
          },
          "geo": {
           "bgcolor": "white",
           "lakecolor": "white",
           "landcolor": "#E5ECF6",
           "showlakes": true,
           "showland": true,
           "subunitcolor": "white"
          },
          "hoverlabel": {
           "align": "left"
          },
          "hovermode": "closest",
          "mapbox": {
           "style": "light"
          },
          "paper_bgcolor": "white",
          "plot_bgcolor": "#E5ECF6",
          "polar": {
           "angularaxis": {
            "gridcolor": "white",
            "linecolor": "white",
            "ticks": ""
           },
           "bgcolor": "#E5ECF6",
           "radialaxis": {
            "gridcolor": "white",
            "linecolor": "white",
            "ticks": ""
           }
          },
          "scene": {
           "xaxis": {
            "backgroundcolor": "#E5ECF6",
            "gridcolor": "white",
            "gridwidth": 2,
            "linecolor": "white",
            "showbackground": true,
            "ticks": "",
            "zerolinecolor": "white"
           },
           "yaxis": {
            "backgroundcolor": "#E5ECF6",
            "gridcolor": "white",
            "gridwidth": 2,
            "linecolor": "white",
            "showbackground": true,
            "ticks": "",
            "zerolinecolor": "white"
           },
           "zaxis": {
            "backgroundcolor": "#E5ECF6",
            "gridcolor": "white",
            "gridwidth": 2,
            "linecolor": "white",
            "showbackground": true,
            "ticks": "",
            "zerolinecolor": "white"
           }
          },
          "shapedefaults": {
           "line": {
            "color": "#2a3f5f"
           }
          },
          "ternary": {
           "aaxis": {
            "gridcolor": "white",
            "linecolor": "white",
            "ticks": ""
           },
           "baxis": {
            "gridcolor": "white",
            "linecolor": "white",
            "ticks": ""
           },
           "bgcolor": "#E5ECF6",
           "caxis": {
            "gridcolor": "white",
            "linecolor": "white",
            "ticks": ""
           }
          },
          "title": {
           "x": 0.05
          },
          "xaxis": {
           "automargin": true,
           "gridcolor": "white",
           "linecolor": "white",
           "ticks": "",
           "title": {
            "standoff": 15
           },
           "zerolinecolor": "white",
           "zerolinewidth": 2
          },
          "yaxis": {
           "automargin": true,
           "gridcolor": "white",
           "linecolor": "white",
           "ticks": "",
           "title": {
            "standoff": 15
           },
           "zerolinecolor": "white",
           "zerolinewidth": 2
          }
         }
        },
        "title": {
         "text": "Data Point Counts by Association Class and Missing-Values Handling Method"
        },
        "xaxis": {
         "anchor": "y",
         "domain": [
          0,
          1
         ],
         "title": {
          "text": "source"
         }
        },
        "yaxis": {
         "anchor": "x",
         "domain": [
          0,
          1
         ],
         "title": {
          "text": "count"
         }
        }
       }
      }
     },
     "metadata": {},
     "output_type": "display_data"
    }
   ],
   "source": [
    "df_combined_counts = df_combined.fillna('NaN').groupby(['source','class'], dropna=False).size().reset_index(name='count').sort_index(ascending=False)\n",
    "fig = px.bar(df_combined_counts,x ='source', y='count', color='class', \n",
    "             barmode='group', text='count',\n",
    "             title='Data Point Counts by Association Class and Missing-Values Handling Method')\n",
    "fig.show()"
   ]
  },
  {
   "cell_type": "markdown",
   "id": "a8dcd8f2",
   "metadata": {},
   "source": [
    "## Conclusion\n",
    "\n",
    "1. There is no significant effect on the distribution of each feature accross different missing-value-handling method as it can be seen from the boxplot (see *Visualization 1*).\n",
    "\n",
    "2. The differences of average(mean) of each feature between Deletion, Imputation, and the original dataset is also very minimal. This is probably because there are not so many missing values within the dataset (see *Summary Statistics 1*).\n",
    "\n",
    "3. As we can see in the bar chart, the imputation method retain the class structure by adding new class Unknown for NaN values. This can be used for example for testing or validation of the model trained on this dataset (see *Visualization 2*)"
   ]
  },
  {
   "cell_type": "markdown",
   "id": "165e9cf0",
   "metadata": {},
   "source": []
  }
 ],
 "metadata": {
  "kernelspec": {
   "display_name": "Python 3",
   "language": "python",
   "name": "python3"
  },
  "language_info": {
   "codemirror_mode": {
    "name": "ipython",
    "version": 3
   },
   "file_extension": ".py",
   "mimetype": "text/x-python",
   "name": "python",
   "nbconvert_exporter": "python",
   "pygments_lexer": "ipython3",
   "version": "3.12.10"
  }
 },
 "nbformat": 4,
 "nbformat_minor": 5
}
