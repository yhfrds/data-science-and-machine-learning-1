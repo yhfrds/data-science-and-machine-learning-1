{
 "cells": [
  {
   "cell_type": "markdown",
   "id": "2fd07abb-a8dd-4b6c-9240-0b06fc627762",
   "metadata": {
    "tags": []
   },
   "source": [
    "<span style='color:red'> NOTE: You can only pass the lab, when you provide both code and markdown </span>\n",
    "\n",
    "Use Code for your analysis\n",
    "Use Markdown to document and elaborate on your findings, conclusions, assertions, etc."
   ]
  },
  {
   "cell_type": "markdown",
   "id": "bef8af1e-58c5-4be8-92ff-89d0faf7a502",
   "metadata": {
    "tags": []
   },
   "source": [
    "# DS_ML_I_P2: Excercise: Working with missing data\n",
    "This excercise should give you some practice in working with missing data of different feature types"
   ]
  },
  {
   "cell_type": "markdown",
   "id": "ed408810-aab2-4903-a2ec-c4bf9b32f4dd",
   "metadata": {},
   "source": [
    "## Load the iris dataset with missing values into a dataframe \n",
    "File: datasets.zip/datasets/iris/data_someMissing.all\n",
    "\n",
    "Hint: When data is missing, pandas might not be able to determine the proper type of columns by itself. Look carefully at the data types and act accordingly! You have different options to change the types of columns:\n",
    "* When reading, have a look at [pandas.read_csv](https://pandas.pydata.org/docs/reference/api/pandas.read_csv.html), esp the parameter *na_filter*\n",
    "* In memory, have a look at [dataframe.astype](https://pandas.pydata.org/docs/reference/api/pandas.DataFrame.astype.html) and the transformation functions [dataframe.apply](https://pandas.pydata.org/docs/reference/api/pandas.DataFrame.apply.html) in combination with [pandas.to_numeric](https://pandas.pydata.org/docs/reference/api/pandas.to_numeric.html)"
   ]
  },
  {
   "cell_type": "code",
   "execution_count": null,
   "id": "6f8573a0",
   "metadata": {},
   "outputs": [],
   "source": [
    "import pandas as pd"
   ]
  },
  {
   "cell_type": "markdown",
   "id": "9f7e7569",
   "metadata": {},
   "source": [
    "Read the `.all` file and set whitespace as separator and treat the `?` as missing values. Header doesn't exist in the file, hence it was specified when the file is read to treat it accordingly."
   ]
  },
  {
   "cell_type": "code",
   "execution_count": 25,
   "id": "1ced2446",
   "metadata": {},
   "outputs": [],
   "source": [
    "df = pd.read_csv(\"datasets/iris/data_someMissing.all\", sep=' ', header=None, na_filter=True, na_values='?')"
   ]
  },
  {
   "cell_type": "code",
   "execution_count": 26,
   "id": "ff8c16dc",
   "metadata": {},
   "outputs": [
    {
     "data": {
      "text/plain": [
       "Index([0, 1, 2, 3, 4], dtype='int64')"
      ]
     },
     "execution_count": 26,
     "metadata": {},
     "output_type": "execute_result"
    }
   ],
   "source": [
    "df.columns"
   ]
  },
  {
   "cell_type": "code",
   "execution_count": 27,
   "id": "6ae39691",
   "metadata": {},
   "outputs": [
    {
     "name": "stdout",
     "output_type": "stream",
     "text": [
      "<class 'pandas.core.frame.DataFrame'>\n",
      "RangeIndex: 150 entries, 0 to 149\n",
      "Data columns (total 5 columns):\n",
      " #   Column  Non-Null Count  Dtype  \n",
      "---  ------  --------------  -----  \n",
      " 0   0       149 non-null    float64\n",
      " 1   1       149 non-null    float64\n",
      " 2   2       149 non-null    float64\n",
      " 3   3       148 non-null    float64\n",
      " 4   4       149 non-null    object \n",
      "dtypes: float64(4), object(1)\n",
      "memory usage: 6.0+ KB\n"
     ]
    }
   ],
   "source": [
    "df.info()"
   ]
  },
  {
   "cell_type": "markdown",
   "id": "6e0a772f-f13b-4e4b-9625-bcabd8e7cee7",
   "metadata": {},
   "source": [
    "## What are your options to work with the missing values?\n",
    "* Deletion: removing the rows with the missing values (ignoring the datapoint)\n",
    "* Imputation: replacing missing values with subtituted values. They can be e.g. mean, median, mode, etc. of the existing values or the most make sense value based on the other features available\n",
    "\n",
    "## What is their difference with respect to the features of the dataset and the class associations? \n",
    "* your text here\n",
    "* option 1\n",
    "* option 2\n"
   ]
  },
  {
   "cell_type": "markdown",
   "id": "e9ae25a3-8149-47ee-a608-55b7e752d1f3",
   "metadata": {},
   "source": [
    "## Implement some of the options for the dataset\n",
    "* check, how these options change the statistical values of\n",
    "  * each feature\n",
    "  * each class\n",
    "* useful functions in pandas for this step\n",
    "  * find out, if a value [is null](https://pandas.pydata.org/docs/reference/api/pandas.DataFrame.isnull.html)\n",
    "  * [removing data that null ](https://pandas.pydata.org/docs/reference/api/pandas.DataFrame.dropna.html?highlight=dropna)\n",
    "  * [fill null data with other value](https://pandas.pydata.org/docs/reference/api/pandas.DataFrame.fillna.html)\n",
    "  * [replace values](https://pandas.pydata.org/docs/reference/api/pandas.DataFrame.replace.html)"
   ]
  },
  {
   "cell_type": "code",
   "execution_count": null,
   "id": "7d792e4f",
   "metadata": {},
   "outputs": [],
   "source": [
    "# your code here"
   ]
  },
  {
   "cell_type": "code",
   "execution_count": null,
   "id": "f30c90db",
   "metadata": {},
   "outputs": [],
   "source": [
    "# print statistics for each of the options you realize"
   ]
  },
  {
   "cell_type": "code",
   "execution_count": null,
   "id": "1ab97448-7c21-4cf2-8e10-3ca240dc9a6b",
   "metadata": {
    "tags": []
   },
   "outputs": [],
   "source": []
  }
 ],
 "metadata": {
  "kernelspec": {
   "display_name": "Python 3",
   "language": "python",
   "name": "python3"
  },
  "language_info": {
   "codemirror_mode": {
    "name": "ipython",
    "version": 3
   },
   "file_extension": ".py",
   "mimetype": "text/x-python",
   "name": "python",
   "nbconvert_exporter": "python",
   "pygments_lexer": "ipython3",
   "version": "3.12.10"
  }
 },
 "nbformat": 4,
 "nbformat_minor": 5
}
