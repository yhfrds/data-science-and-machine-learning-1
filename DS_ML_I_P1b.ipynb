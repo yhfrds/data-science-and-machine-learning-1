{
 "cells": [
  {
   "cell_type": "markdown",
   "id": "256305fd-460d-4e99-904a-504c35b2448b",
   "metadata": {},
   "source": [
    "<span style='color:red'> NOTE: You can only pass the lab, when you provide both code and markdown </span>\n",
    "\n",
    "Use Code for your analysis\n",
    "Use Markdown to document and elaborate on your findings, conclusions, assertions, etc."
   ]
  },
  {
   "cell_type": "markdown",
   "id": "e81e20cd-10a9-44b2-8de5-7a0540131045",
   "metadata": {},
   "source": [
    "# DS_ML_I_P1: Dataset creation from raw data \n",
    "Provided is a list of Excel-Files that stem from a radar measurement using an array of 15 Antennas and a frequency sweep. Another Excel sheet provides information on the type of object that should be detected and its orientation.\n",
    "\n",
    "The overall task is to load the data into a single dataframe, add the proper information on object, orientation and the name of the image that shows the object (which is not provided here)\n"
   ]
  },
  {
   "cell_type": "markdown",
   "id": "ecba50ce-17ea-41cc-84d0-a0555c5bbaff",
   "metadata": {},
   "source": [
    "## 1. Load the data and check proper loading\n",
    "Load all the data into a single dataframe so that\n",
    "* The name of the file is a separat column\n",
    "* Only the first five columns and all rows per Sheet tab should be integrated (15 Tabs in total, one per Antenna)\n",
    "* Sheet tab name should be the major index in a multiindex column dataframe\n",
    "* Tab column names should be the minor index\n",
    "* After this dataframe has been created the object information, orientation and image name should be added as separate columns by integrating the information from the specific excel sheet."
   ]
  },
  {
   "cell_type": "markdown",
   "id": "9bf620f2-eebd-4e46-998e-553adbdf7308",
   "metadata": {},
   "source": [
    "## 2. Print some statistics and analyze"
   ]
  },
  {
   "cell_type": "markdown",
   "id": "7fedfa79-4215-44fe-b648-b5a70d1b2169",
   "metadata": {},
   "source": [
    "## 3. Visualize the data\n",
    "* Scatter Plot\n",
    "* Box Plot\n",
    "* Histogram"
   ]
  },
  {
   "cell_type": "markdown",
   "id": "4a8d97e8-cc58-4b26-9368-33dc7b3b26a7",
   "metadata": {},
   "source": [
    "## 4. Conclusion\n"
   ]
  },
  {
   "cell_type": "code",
   "execution_count": null,
   "id": "15dcddb3-ade7-4dba-9fcd-73e0f0c7219c",
   "metadata": {
    "tags": []
   },
   "outputs": [],
   "source": []
  }
 ],
 "metadata": {
  "kernelspec": {
   "display_name": "Python 3 (ipykernel)",
   "language": "python",
   "name": "python3"
  },
  "language_info": {
   "codemirror_mode": {
    "name": "ipython",
    "version": 3
   },
   "file_extension": ".py",
   "mimetype": "text/x-python",
   "name": "python",
   "nbconvert_exporter": "python",
   "pygments_lexer": "ipython3",
   "version": "3.9.19"
  }
 },
 "nbformat": 4,
 "nbformat_minor": 5
}
